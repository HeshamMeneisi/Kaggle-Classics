{
 "cells": [
  {
   "cell_type": "markdown",
   "metadata": {},
   "source": [
    "# Loading The Data"
   ]
  },
  {
   "cell_type": "code",
   "execution_count": 2,
   "metadata": {},
   "outputs": [
    {
     "data": {
      "text/html": [
       "<div>\n",
       "<style scoped>\n",
       "    .dataframe tbody tr th:only-of-type {\n",
       "        vertical-align: middle;\n",
       "    }\n",
       "\n",
       "    .dataframe tbody tr th {\n",
       "        vertical-align: top;\n",
       "    }\n",
       "\n",
       "    .dataframe thead th {\n",
       "        text-align: right;\n",
       "    }\n",
       "</style>\n",
       "<table border=\"1\" class=\"dataframe\">\n",
       "  <thead>\n",
       "    <tr style=\"text-align: right;\">\n",
       "      <th></th>\n",
       "      <th>Age</th>\n",
       "      <th>Cabin</th>\n",
       "      <th>Embarked</th>\n",
       "      <th>Fare</th>\n",
       "      <th>Name</th>\n",
       "      <th>Parch</th>\n",
       "      <th>PassengerId</th>\n",
       "      <th>Pclass</th>\n",
       "      <th>Sex</th>\n",
       "      <th>SibSp</th>\n",
       "      <th>Survived</th>\n",
       "      <th>Ticket</th>\n",
       "    </tr>\n",
       "  </thead>\n",
       "  <tbody>\n",
       "    <tr>\n",
       "      <th>count</th>\n",
       "      <td>1046.000000</td>\n",
       "      <td>295</td>\n",
       "      <td>1307</td>\n",
       "      <td>1308.000000</td>\n",
       "      <td>1309</td>\n",
       "      <td>1309.000000</td>\n",
       "      <td>1309.000000</td>\n",
       "      <td>1309.000000</td>\n",
       "      <td>1309</td>\n",
       "      <td>1309.000000</td>\n",
       "      <td>891.000000</td>\n",
       "      <td>1309</td>\n",
       "    </tr>\n",
       "    <tr>\n",
       "      <th>unique</th>\n",
       "      <td>NaN</td>\n",
       "      <td>186</td>\n",
       "      <td>3</td>\n",
       "      <td>NaN</td>\n",
       "      <td>1307</td>\n",
       "      <td>NaN</td>\n",
       "      <td>NaN</td>\n",
       "      <td>NaN</td>\n",
       "      <td>2</td>\n",
       "      <td>NaN</td>\n",
       "      <td>NaN</td>\n",
       "      <td>929</td>\n",
       "    </tr>\n",
       "    <tr>\n",
       "      <th>top</th>\n",
       "      <td>NaN</td>\n",
       "      <td>C23 C25 C27</td>\n",
       "      <td>S</td>\n",
       "      <td>NaN</td>\n",
       "      <td>Kelly, Mr. James</td>\n",
       "      <td>NaN</td>\n",
       "      <td>NaN</td>\n",
       "      <td>NaN</td>\n",
       "      <td>male</td>\n",
       "      <td>NaN</td>\n",
       "      <td>NaN</td>\n",
       "      <td>CA. 2343</td>\n",
       "    </tr>\n",
       "    <tr>\n",
       "      <th>freq</th>\n",
       "      <td>NaN</td>\n",
       "      <td>6</td>\n",
       "      <td>914</td>\n",
       "      <td>NaN</td>\n",
       "      <td>2</td>\n",
       "      <td>NaN</td>\n",
       "      <td>NaN</td>\n",
       "      <td>NaN</td>\n",
       "      <td>843</td>\n",
       "      <td>NaN</td>\n",
       "      <td>NaN</td>\n",
       "      <td>11</td>\n",
       "    </tr>\n",
       "    <tr>\n",
       "      <th>mean</th>\n",
       "      <td>29.881138</td>\n",
       "      <td>NaN</td>\n",
       "      <td>NaN</td>\n",
       "      <td>33.295479</td>\n",
       "      <td>NaN</td>\n",
       "      <td>0.385027</td>\n",
       "      <td>655.000000</td>\n",
       "      <td>2.294882</td>\n",
       "      <td>NaN</td>\n",
       "      <td>0.498854</td>\n",
       "      <td>0.383838</td>\n",
       "      <td>NaN</td>\n",
       "    </tr>\n",
       "    <tr>\n",
       "      <th>std</th>\n",
       "      <td>14.413493</td>\n",
       "      <td>NaN</td>\n",
       "      <td>NaN</td>\n",
       "      <td>51.758668</td>\n",
       "      <td>NaN</td>\n",
       "      <td>0.865560</td>\n",
       "      <td>378.020061</td>\n",
       "      <td>0.837836</td>\n",
       "      <td>NaN</td>\n",
       "      <td>1.041658</td>\n",
       "      <td>0.486592</td>\n",
       "      <td>NaN</td>\n",
       "    </tr>\n",
       "    <tr>\n",
       "      <th>min</th>\n",
       "      <td>0.170000</td>\n",
       "      <td>NaN</td>\n",
       "      <td>NaN</td>\n",
       "      <td>0.000000</td>\n",
       "      <td>NaN</td>\n",
       "      <td>0.000000</td>\n",
       "      <td>1.000000</td>\n",
       "      <td>1.000000</td>\n",
       "      <td>NaN</td>\n",
       "      <td>0.000000</td>\n",
       "      <td>0.000000</td>\n",
       "      <td>NaN</td>\n",
       "    </tr>\n",
       "    <tr>\n",
       "      <th>25%</th>\n",
       "      <td>21.000000</td>\n",
       "      <td>NaN</td>\n",
       "      <td>NaN</td>\n",
       "      <td>7.895800</td>\n",
       "      <td>NaN</td>\n",
       "      <td>0.000000</td>\n",
       "      <td>328.000000</td>\n",
       "      <td>2.000000</td>\n",
       "      <td>NaN</td>\n",
       "      <td>0.000000</td>\n",
       "      <td>0.000000</td>\n",
       "      <td>NaN</td>\n",
       "    </tr>\n",
       "    <tr>\n",
       "      <th>50%</th>\n",
       "      <td>28.000000</td>\n",
       "      <td>NaN</td>\n",
       "      <td>NaN</td>\n",
       "      <td>14.454200</td>\n",
       "      <td>NaN</td>\n",
       "      <td>0.000000</td>\n",
       "      <td>655.000000</td>\n",
       "      <td>3.000000</td>\n",
       "      <td>NaN</td>\n",
       "      <td>0.000000</td>\n",
       "      <td>0.000000</td>\n",
       "      <td>NaN</td>\n",
       "    </tr>\n",
       "    <tr>\n",
       "      <th>75%</th>\n",
       "      <td>39.000000</td>\n",
       "      <td>NaN</td>\n",
       "      <td>NaN</td>\n",
       "      <td>31.275000</td>\n",
       "      <td>NaN</td>\n",
       "      <td>0.000000</td>\n",
       "      <td>982.000000</td>\n",
       "      <td>3.000000</td>\n",
       "      <td>NaN</td>\n",
       "      <td>1.000000</td>\n",
       "      <td>1.000000</td>\n",
       "      <td>NaN</td>\n",
       "    </tr>\n",
       "    <tr>\n",
       "      <th>max</th>\n",
       "      <td>80.000000</td>\n",
       "      <td>NaN</td>\n",
       "      <td>NaN</td>\n",
       "      <td>512.329200</td>\n",
       "      <td>NaN</td>\n",
       "      <td>9.000000</td>\n",
       "      <td>1309.000000</td>\n",
       "      <td>3.000000</td>\n",
       "      <td>NaN</td>\n",
       "      <td>8.000000</td>\n",
       "      <td>1.000000</td>\n",
       "      <td>NaN</td>\n",
       "    </tr>\n",
       "  </tbody>\n",
       "</table>\n",
       "</div>"
      ],
      "text/plain": [
       "                Age        Cabin Embarked         Fare              Name  \\\n",
       "count   1046.000000          295     1307  1308.000000              1309   \n",
       "unique          NaN          186        3          NaN              1307   \n",
       "top             NaN  C23 C25 C27        S          NaN  Kelly, Mr. James   \n",
       "freq            NaN            6      914          NaN                 2   \n",
       "mean      29.881138          NaN      NaN    33.295479               NaN   \n",
       "std       14.413493          NaN      NaN    51.758668               NaN   \n",
       "min        0.170000          NaN      NaN     0.000000               NaN   \n",
       "25%       21.000000          NaN      NaN     7.895800               NaN   \n",
       "50%       28.000000          NaN      NaN    14.454200               NaN   \n",
       "75%       39.000000          NaN      NaN    31.275000               NaN   \n",
       "max       80.000000          NaN      NaN   512.329200               NaN   \n",
       "\n",
       "              Parch  PassengerId       Pclass   Sex        SibSp    Survived  \\\n",
       "count   1309.000000  1309.000000  1309.000000  1309  1309.000000  891.000000   \n",
       "unique          NaN          NaN          NaN     2          NaN         NaN   \n",
       "top             NaN          NaN          NaN  male          NaN         NaN   \n",
       "freq            NaN          NaN          NaN   843          NaN         NaN   \n",
       "mean       0.385027   655.000000     2.294882   NaN     0.498854    0.383838   \n",
       "std        0.865560   378.020061     0.837836   NaN     1.041658    0.486592   \n",
       "min        0.000000     1.000000     1.000000   NaN     0.000000    0.000000   \n",
       "25%        0.000000   328.000000     2.000000   NaN     0.000000    0.000000   \n",
       "50%        0.000000   655.000000     3.000000   NaN     0.000000    0.000000   \n",
       "75%        0.000000   982.000000     3.000000   NaN     1.000000    1.000000   \n",
       "max        9.000000  1309.000000     3.000000   NaN     8.000000    1.000000   \n",
       "\n",
       "          Ticket  \n",
       "count       1309  \n",
       "unique       929  \n",
       "top     CA. 2343  \n",
       "freq          11  \n",
       "mean         NaN  \n",
       "std          NaN  \n",
       "min          NaN  \n",
       "25%          NaN  \n",
       "50%          NaN  \n",
       "75%          NaN  \n",
       "max          NaN  "
      ]
     },
     "execution_count": 2,
     "metadata": {},
     "output_type": "execute_result"
    }
   ],
   "source": [
    "import pandas as pd\n",
    "import numpy as np\n",
    "import seaborn as sns\n",
    "import matplotlib.pyplot as plt\n",
    "import sklearn.base as skb\n",
    "from sklearn.preprocessing import LabelEncoder, StandardScaler\n",
    "from sklearn.neural_network import MLPClassifier\n",
    "from sklearn.ensemble import RandomForestClassifier, GradientBoostingClassifier, AdaBoostClassifier, ExtraTreesClassifier\n",
    "from sklearn.tree import DecisionTreeClassifier\n",
    "from sklearn.metrics import accuracy_score\n",
    "from sklearn.model_selection import train_test_split, GridSearchCV\n",
    "from sklearn.model_selection import StratifiedKFold\n",
    "from sklearn.svm import SVC\n",
    "from sklearn.linear_model import LogisticRegression\n",
    "from sklearn.naive_bayes import GaussianNB\n",
    "from sklearn.neighbors import KNeighborsClassifier\n",
    "from sklearn.discriminant_analysis import LinearDiscriminantAnalysis, QuadraticDiscriminantAnalysis\n",
    "from xgboost.sklearn import XGBClassifier\n",
    "\n",
    "data = pd.read_csv('train.csv')\n",
    "\n",
    "test_data = pd.read_csv('test.csv')\n",
    "\n",
    "all_data = pd.concat([data, test_data])\n",
    "all_data.reset_index(drop=True, inplace=True)\n",
    "\n",
    "all_data.describe(include='all')"
   ]
  },
  {
   "cell_type": "markdown",
   "metadata": {},
   "source": [
    "# Feature Engineering & Cleanup"
   ]
  },
  {
   "cell_type": "code",
   "execution_count": 3,
   "metadata": {},
   "outputs": [],
   "source": [
    "def breakdown_desc(attrib, eff_attrib, kind='bar', data=data):\n",
    "    values = data[attrib].unique()\n",
    "    count = len(values)\n",
    "    cols = min(count, 5)\n",
    "    rows = count // cols + 1\n",
    "    fig = plt.figure(figsize=(cols*3, rows*3))\n",
    "\n",
    "    i=1\n",
    "    for val in np.sort(values):\n",
    "        fig.add_subplot(rows, cols, i)\n",
    "        plt.title(attrib + ' : ' + str(val))\n",
    "        data[eff_attrib][data[attrib] == val].value_counts().sort_index().plot(kind=kind)\n",
    "        i += 1\n",
    "        plt.xlabel(eff_attrib)\n",
    "        plt.ylabel('Count')\n",
    "    plt.tight_layout()"
   ]
  },
  {
   "cell_type": "markdown",
   "metadata": {},
   "source": [
    "It is obvious that Name is too complex to use and Cabin has a lot of missing values and the rest are mostly unique. However, we can extract some really useful features from Name and Cabin before throwing them out."
   ]
  },
  {
   "cell_type": "code",
   "execution_count": 4,
   "metadata": {},
   "outputs": [],
   "source": [
    "all_data['Title'] = all_data.Name.str.extract('([A-Za-z]+)\\\\.', expand=False)\n",
    "\n",
    "all_data.Cabin.fillna('U', inplace=True)\n",
    "all_data['Deck'] = all_data.Cabin.apply(lambda x: x[0])\n",
    "\n",
    "all_data['LName'] = all_data.Name.str.extract('([A-Za-z]+),', expand=False)\n",
    "\n",
    "all_data['FName'] = all_data.Name.str.extract('\\\\(([A-Za-z]+)', expand=False)\n",
    "all_data.loc[all_data.FName.isnull(), 'FName'] = all_data.Name[all_data.FName.isnull()] \\\n",
    ".str.extract('\\\\.\\s([A-Za-z]+)', expand=False)\n",
    "\n",
    "vc = all_data.LName.value_counts()\n",
    "other = vc[vc < 2]\n",
    "other[:] = 'Other'\n",
    "all_data.LName = all_data.LName.replace(other)\n",
    "\n",
    "vc = all_data.FName.value_counts()\n",
    "other = vc[vc < 4]\n",
    "other[:] = 'Other'\n",
    "all_data.FName = all_data.FName.replace(other)\n",
    "\n",
    "\n",
    "all_data.drop(columns=['Name', 'Cabin', 'Ticket'], inplace=True)"
   ]
  },
  {
   "cell_type": "markdown",
   "metadata": {},
   "source": [
    "Using the median Age per Title is even more accurate than a regressor, regarding final model accuracy."
   ]
  },
  {
   "cell_type": "code",
   "execution_count": 5,
   "metadata": {},
   "outputs": [
    {
     "data": {
      "image/png": "[encoded data removed]",
      "text/plain": [
       "<matplotlib.figure.Figure at 0x7f704c7dda90>"
      ]
     },
     "metadata": {},
     "output_type": "display_data"
    }
   ],
   "source": [
    "title_med_age = all_data[~all_data.Age.isnull()].groupby(by='Title').Age.median()\n",
    "title_med_age.sort_values().plot(kind='bar')\n",
    "plt.ylabel('Med. Age')\n",
    "\n",
    "all_data.loc[all_data.Age.isnull(), 'Age'] = title_med_age[all_data[all_data.Age.isnull()].Title].values"
   ]
  },
  {
   "cell_type": "markdown",
   "metadata": {},
   "source": [
    "Port S has a dominant probability and since only two Embarked entries are missing, it is reasonable to just assume them to be S. "
   ]
  },
  {
   "cell_type": "code",
   "execution_count": 6,
   "metadata": {},
   "outputs": [
    {
     "data": {
      "image/png": "[encoded data removed]",
      "text/plain": [
       "<matplotlib.figure.Figure at 0x7f700a8c72b0>"
      ]
     },
     "metadata": {},
     "output_type": "display_data"
    }
   ],
   "source": [
    "all_data.Embarked.value_counts().plot(kind='bar')\n",
    "all_data.Embarked.fillna('S', inplace=True)"
   ]
  },
  {
   "cell_type": "markdown",
   "metadata": {},
   "source": [
    "We can use the median fare per class for that missing Fare entry."
   ]
  },
  {
   "cell_type": "code",
   "execution_count": 7,
   "metadata": {},
   "outputs": [
    {
     "data": {
      "image/png": "[encoded data removed]",
      "text/plain": [
       "<matplotlib.figure.Figure at 0x7f700885a278>"
      ]
     },
     "metadata": {},
     "output_type": "display_data"
    }
   ],
   "source": [
    "class_med_fare = all_data[~all_data.Fare.isnull()].groupby(by='Pclass').Fare.median()\n",
    "class_med_fare.sort_values().plot(kind='bar')\n",
    "\n",
    "all_data.loc[all_data.Fare.isnull(), 'Fare'] = class_med_fare[all_data[all_data.Fare.isnull()].Pclass].values"
   ]
  },
  {
   "cell_type": "code",
   "execution_count": 8,
   "metadata": {},
   "outputs": [
    {
     "data": {
      "text/html": [
       "<div>\n",
       "<style scoped>\n",
       "    .dataframe tbody tr th:only-of-type {\n",
       "        vertical-align: middle;\n",
       "    }\n",
       "\n",
       "    .dataframe tbody tr th {\n",
       "        vertical-align: top;\n",
       "    }\n",
       "\n",
       "    .dataframe thead th {\n",
       "        text-align: right;\n",
       "    }\n",
       "</style>\n",
       "<table border=\"1\" class=\"dataframe\">\n",
       "  <thead>\n",
       "    <tr style=\"text-align: right;\">\n",
       "      <th></th>\n",
       "      <th>Age</th>\n",
       "      <th>Embarked</th>\n",
       "      <th>Fare</th>\n",
       "      <th>Parch</th>\n",
       "      <th>PassengerId</th>\n",
       "      <th>Pclass</th>\n",
       "      <th>Sex</th>\n",
       "      <th>SibSp</th>\n",
       "      <th>Survived</th>\n",
       "      <th>Title</th>\n",
       "      <th>Deck</th>\n",
       "      <th>LName</th>\n",
       "      <th>FName</th>\n",
       "    </tr>\n",
       "  </thead>\n",
       "  <tbody>\n",
       "    <tr>\n",
       "      <th>count</th>\n",
       "      <td>1309.000000</td>\n",
       "      <td>1309</td>\n",
       "      <td>1309.000000</td>\n",
       "      <td>1309.000000</td>\n",
       "      <td>1309.000000</td>\n",
       "      <td>1309.000000</td>\n",
       "      <td>1309</td>\n",
       "      <td>1309.000000</td>\n",
       "      <td>891.000000</td>\n",
       "      <td>1309</td>\n",
       "      <td>1309</td>\n",
       "      <td>1309</td>\n",
       "      <td>1309</td>\n",
       "    </tr>\n",
       "    <tr>\n",
       "      <th>unique</th>\n",
       "      <td>NaN</td>\n",
       "      <td>3</td>\n",
       "      <td>NaN</td>\n",
       "      <td>NaN</td>\n",
       "      <td>NaN</td>\n",
       "      <td>NaN</td>\n",
       "      <td>2</td>\n",
       "      <td>NaN</td>\n",
       "      <td>NaN</td>\n",
       "      <td>18</td>\n",
       "      <td>9</td>\n",
       "      <td>240</td>\n",
       "      <td>67</td>\n",
       "    </tr>\n",
       "    <tr>\n",
       "      <th>top</th>\n",
       "      <td>NaN</td>\n",
       "      <td>S</td>\n",
       "      <td>NaN</td>\n",
       "      <td>NaN</td>\n",
       "      <td>NaN</td>\n",
       "      <td>NaN</td>\n",
       "      <td>male</td>\n",
       "      <td>NaN</td>\n",
       "      <td>NaN</td>\n",
       "      <td>Mr</td>\n",
       "      <td>U</td>\n",
       "      <td>Other</td>\n",
       "      <td>Other</td>\n",
       "    </tr>\n",
       "    <tr>\n",
       "      <th>freq</th>\n",
       "      <td>NaN</td>\n",
       "      <td>916</td>\n",
       "      <td>NaN</td>\n",
       "      <td>NaN</td>\n",
       "      <td>NaN</td>\n",
       "      <td>NaN</td>\n",
       "      <td>843</td>\n",
       "      <td>NaN</td>\n",
       "      <td>NaN</td>\n",
       "      <td>757</td>\n",
       "      <td>1014</td>\n",
       "      <td>633</td>\n",
       "      <td>684</td>\n",
       "    </tr>\n",
       "    <tr>\n",
       "      <th>mean</th>\n",
       "      <td>29.432521</td>\n",
       "      <td>NaN</td>\n",
       "      <td>33.276193</td>\n",
       "      <td>0.385027</td>\n",
       "      <td>655.000000</td>\n",
       "      <td>2.294882</td>\n",
       "      <td>NaN</td>\n",
       "      <td>0.498854</td>\n",
       "      <td>0.383838</td>\n",
       "      <td>NaN</td>\n",
       "      <td>NaN</td>\n",
       "      <td>NaN</td>\n",
       "      <td>NaN</td>\n",
       "    </tr>\n",
       "    <tr>\n",
       "      <th>std</th>\n",
       "      <td>13.163767</td>\n",
       "      <td>NaN</td>\n",
       "      <td>51.743584</td>\n",
       "      <td>0.865560</td>\n",
       "      <td>378.020061</td>\n",
       "      <td>0.837836</td>\n",
       "      <td>NaN</td>\n",
       "      <td>1.041658</td>\n",
       "      <td>0.486592</td>\n",
       "      <td>NaN</td>\n",
       "      <td>NaN</td>\n",
       "      <td>NaN</td>\n",
       "      <td>NaN</td>\n",
       "    </tr>\n",
       "    <tr>\n",
       "      <th>min</th>\n",
       "      <td>0.170000</td>\n",
       "      <td>NaN</td>\n",
       "      <td>0.000000</td>\n",
       "      <td>0.000000</td>\n",
       "      <td>1.000000</td>\n",
       "      <td>1.000000</td>\n",
       "      <td>NaN</td>\n",
       "      <td>0.000000</td>\n",
       "      <td>0.000000</td>\n",
       "      <td>NaN</td>\n",
       "      <td>NaN</td>\n",
       "      <td>NaN</td>\n",
       "      <td>NaN</td>\n",
       "    </tr>\n",
       "    <tr>\n",
       "      <th>25%</th>\n",
       "      <td>22.000000</td>\n",
       "      <td>NaN</td>\n",
       "      <td>7.895800</td>\n",
       "      <td>0.000000</td>\n",
       "      <td>328.000000</td>\n",
       "      <td>2.000000</td>\n",
       "      <td>NaN</td>\n",
       "      <td>0.000000</td>\n",
       "      <td>0.000000</td>\n",
       "      <td>NaN</td>\n",
       "      <td>NaN</td>\n",
       "      <td>NaN</td>\n",
       "      <td>NaN</td>\n",
       "    </tr>\n",
       "    <tr>\n",
       "      <th>50%</th>\n",
       "      <td>29.000000</td>\n",
       "      <td>NaN</td>\n",
       "      <td>14.454200</td>\n",
       "      <td>0.000000</td>\n",
       "      <td>655.000000</td>\n",
       "      <td>3.000000</td>\n",
       "      <td>NaN</td>\n",
       "      <td>0.000000</td>\n",
       "      <td>0.000000</td>\n",
       "      <td>NaN</td>\n",
       "      <td>NaN</td>\n",
       "      <td>NaN</td>\n",
       "      <td>NaN</td>\n",
       "    </tr>\n",
       "    <tr>\n",
       "      <th>75%</th>\n",
       "      <td>35.500000</td>\n",
       "      <td>NaN</td>\n",
       "      <td>31.275000</td>\n",
       "      <td>0.000000</td>\n",
       "      <td>982.000000</td>\n",
       "      <td>3.000000</td>\n",
       "      <td>NaN</td>\n",
       "      <td>1.000000</td>\n",
       "      <td>1.000000</td>\n",
       "      <td>NaN</td>\n",
       "      <td>NaN</td>\n",
       "      <td>NaN</td>\n",
       "      <td>NaN</td>\n",
       "    </tr>\n",
       "    <tr>\n",
       "      <th>max</th>\n",
       "      <td>80.000000</td>\n",
       "      <td>NaN</td>\n",
       "      <td>512.329200</td>\n",
       "      <td>9.000000</td>\n",
       "      <td>1309.000000</td>\n",
       "      <td>3.000000</td>\n",
       "      <td>NaN</td>\n",
       "      <td>8.000000</td>\n",
       "      <td>1.000000</td>\n",
       "      <td>NaN</td>\n",
       "      <td>NaN</td>\n",
       "      <td>NaN</td>\n",
       "      <td>NaN</td>\n",
       "    </tr>\n",
       "  </tbody>\n",
       "</table>\n",
       "</div>"
      ],
      "text/plain": [
       "                Age Embarked         Fare        Parch  PassengerId  \\\n",
       "count   1309.000000     1309  1309.000000  1309.000000  1309.000000   \n",
       "unique          NaN        3          NaN          NaN          NaN   \n",
       "top             NaN        S          NaN          NaN          NaN   \n",
       "freq            NaN      916          NaN          NaN          NaN   \n",
       "mean      29.432521      NaN    33.276193     0.385027   655.000000   \n",
       "std       13.163767      NaN    51.743584     0.865560   378.020061   \n",
       "min        0.170000      NaN     0.000000     0.000000     1.000000   \n",
       "25%       22.000000      NaN     7.895800     0.000000   328.000000   \n",
       "50%       29.000000      NaN    14.454200     0.000000   655.000000   \n",
       "75%       35.500000      NaN    31.275000     0.000000   982.000000   \n",
       "max       80.000000      NaN   512.329200     9.000000  1309.000000   \n",
       "\n",
       "             Pclass   Sex        SibSp    Survived Title  Deck  LName  FName  \n",
       "count   1309.000000  1309  1309.000000  891.000000  1309  1309   1309   1309  \n",
       "unique          NaN     2          NaN         NaN    18     9    240     67  \n",
       "top             NaN  male          NaN         NaN    Mr     U  Other  Other  \n",
       "freq            NaN   843          NaN         NaN   757  1014    633    684  \n",
       "mean       2.294882   NaN     0.498854    0.383838   NaN   NaN    NaN    NaN  \n",
       "std        0.837836   NaN     1.041658    0.486592   NaN   NaN    NaN    NaN  \n",
       "min        1.000000   NaN     0.000000    0.000000   NaN   NaN    NaN    NaN  \n",
       "25%        2.000000   NaN     0.000000    0.000000   NaN   NaN    NaN    NaN  \n",
       "50%        3.000000   NaN     0.000000    0.000000   NaN   NaN    NaN    NaN  \n",
       "75%        3.000000   NaN     1.000000    1.000000   NaN   NaN    NaN    NaN  \n",
       "max        3.000000   NaN     8.000000    1.000000   NaN   NaN    NaN    NaN  "
      ]
     },
     "execution_count": 8,
     "metadata": {},
     "output_type": "execute_result"
    }
   ],
   "source": [
    "all_data.describe(include='all')"
   ]
  },
  {
   "cell_type": "code",
   "execution_count": 9,
   "metadata": {},
   "outputs": [
    {
     "data": {
      "text/html": [
       "<div>\n",
       "<style scoped>\n",
       "    .dataframe tbody tr th:only-of-type {\n",
       "        vertical-align: middle;\n",
       "    }\n",
       "\n",
       "    .dataframe tbody tr th {\n",
       "        vertical-align: top;\n",
       "    }\n",
       "\n",
       "    .dataframe thead th {\n",
       "        text-align: right;\n",
       "    }\n",
       "</style>\n",
       "<table border=\"1\" class=\"dataframe\">\n",
       "  <thead>\n",
       "    <tr style=\"text-align: right;\">\n",
       "      <th></th>\n",
       "      <th>Age</th>\n",
       "      <th>Embarked</th>\n",
       "      <th>Fare</th>\n",
       "      <th>Parch</th>\n",
       "      <th>PassengerId</th>\n",
       "      <th>Pclass</th>\n",
       "      <th>Sex</th>\n",
       "      <th>SibSp</th>\n",
       "      <th>Survived</th>\n",
       "      <th>Title</th>\n",
       "      <th>Deck</th>\n",
       "      <th>LName</th>\n",
       "      <th>FName</th>\n",
       "    </tr>\n",
       "  </thead>\n",
       "  <tbody>\n",
       "    <tr>\n",
       "      <th>0</th>\n",
       "      <td>22.0</td>\n",
       "      <td>S</td>\n",
       "      <td>7.2500</td>\n",
       "      <td>0</td>\n",
       "      <td>1</td>\n",
       "      <td>3</td>\n",
       "      <td>male</td>\n",
       "      <td>1</td>\n",
       "      <td>0.0</td>\n",
       "      <td>Mr</td>\n",
       "      <td>U</td>\n",
       "      <td>Braund</td>\n",
       "      <td>Other</td>\n",
       "    </tr>\n",
       "    <tr>\n",
       "      <th>1</th>\n",
       "      <td>38.0</td>\n",
       "      <td>C</td>\n",
       "      <td>71.2833</td>\n",
       "      <td>0</td>\n",
       "      <td>2</td>\n",
       "      <td>1</td>\n",
       "      <td>female</td>\n",
       "      <td>1</td>\n",
       "      <td>1.0</td>\n",
       "      <td>Mrs</td>\n",
       "      <td>C</td>\n",
       "      <td>Cumings</td>\n",
       "      <td>Florence</td>\n",
       "    </tr>\n",
       "    <tr>\n",
       "      <th>2</th>\n",
       "      <td>26.0</td>\n",
       "      <td>S</td>\n",
       "      <td>7.9250</td>\n",
       "      <td>0</td>\n",
       "      <td>3</td>\n",
       "      <td>3</td>\n",
       "      <td>female</td>\n",
       "      <td>0</td>\n",
       "      <td>1.0</td>\n",
       "      <td>Miss</td>\n",
       "      <td>U</td>\n",
       "      <td>Other</td>\n",
       "      <td>Other</td>\n",
       "    </tr>\n",
       "    <tr>\n",
       "      <th>3</th>\n",
       "      <td>35.0</td>\n",
       "      <td>S</td>\n",
       "      <td>53.1000</td>\n",
       "      <td>0</td>\n",
       "      <td>4</td>\n",
       "      <td>1</td>\n",
       "      <td>female</td>\n",
       "      <td>1</td>\n",
       "      <td>1.0</td>\n",
       "      <td>Mrs</td>\n",
       "      <td>C</td>\n",
       "      <td>Futrelle</td>\n",
       "      <td>Other</td>\n",
       "    </tr>\n",
       "    <tr>\n",
       "      <th>4</th>\n",
       "      <td>35.0</td>\n",
       "      <td>S</td>\n",
       "      <td>8.0500</td>\n",
       "      <td>0</td>\n",
       "      <td>5</td>\n",
       "      <td>3</td>\n",
       "      <td>male</td>\n",
       "      <td>0</td>\n",
       "      <td>0.0</td>\n",
       "      <td>Mr</td>\n",
       "      <td>U</td>\n",
       "      <td>Allen</td>\n",
       "      <td>William</td>\n",
       "    </tr>\n",
       "  </tbody>\n",
       "</table>\n",
       "</div>"
      ],
      "text/plain": [
       "    Age Embarked     Fare  Parch  PassengerId  Pclass     Sex  SibSp  \\\n",
       "0  22.0        S   7.2500      0            1       3    male      1   \n",
       "1  38.0        C  71.2833      0            2       1  female      1   \n",
       "2  26.0        S   7.9250      0            3       3  female      0   \n",
       "3  35.0        S  53.1000      0            4       1  female      1   \n",
       "4  35.0        S   8.0500      0            5       3    male      0   \n",
       "\n",
       "   Survived Title Deck     LName     FName  \n",
       "0       0.0    Mr    U    Braund     Other  \n",
       "1       1.0   Mrs    C   Cumings  Florence  \n",
       "2       1.0  Miss    U     Other     Other  \n",
       "3       1.0   Mrs    C  Futrelle     Other  \n",
       "4       0.0    Mr    U     Allen   William  "
      ]
     },
     "execution_count": 9,
     "metadata": {},
     "output_type": "execute_result"
    }
   ],
   "source": [
    "all_data.head()"
   ]
  },
  {
   "cell_type": "markdown",
   "metadata": {},
   "source": [
    "# Correlating and Grouping Features"
   ]
  },
  {
   "cell_type": "markdown",
   "metadata": {},
   "source": [
    "I saw many people do this type of mapping and, at first, I was skeptical. The idea behind this type of processing is that linearly correlating features with the probability we are trying to predict improves Tree-Based model performance. Since we are using mostly trees in our stack, this greatly helps the overal performance and accuracy."
   ]
  },
  {
   "cell_type": "code",
   "execution_count": 10,
   "metadata": {},
   "outputs": [
    {
     "data": {
      "image/png": "[encoded data removed]",
      "text/plain": [
       "<matplotlib.figure.Figure at 0x7f70087976a0>"
      ]
     },
     "metadata": {},
     "output_type": "display_data"
    }
   ],
   "source": [
    "breakdown_desc('Embarked', 'Survived', data=all_data[~all_data.Survived.isnull()])"
   ]
  },
  {
   "cell_type": "code",
   "execution_count": 11,
   "metadata": {},
   "outputs": [],
   "source": [
    "emb_map = {\n",
    "    'S':0,\n",
    "    'Q':1,\n",
    "    'C':2\n",
    "}\n",
    "\n",
    "all_data.Embarked = all_data.Embarked.map(emb_map)"
   ]
  },
  {
   "cell_type": "code",
   "execution_count": 12,
   "metadata": {},
   "outputs": [
    {
     "data": {
      "image/png": "[encoded data removed]",
      "text/plain": [
       "<matplotlib.figure.Figure at 0x7f7008797668>"
      ]
     },
     "metadata": {},
     "output_type": "display_data"
    }
   ],
   "source": [
    "breakdown_desc('Parch', 'Survived', data=all_data[~all_data.Survived.isnull()])"
   ]
  },
  {
   "cell_type": "code",
   "execution_count": 13,
   "metadata": {},
   "outputs": [],
   "source": [
    "parch_map = {\n",
    "    9: 0,\n",
    "    6: 1,\n",
    "    5: 2,\n",
    "    4: 3,\n",
    "    0: 4,\n",
    "    2: 5,\n",
    "    1: 6,\n",
    "    3: 7\n",
    "}\n",
    "\n",
    "\n",
    "all_data.Parch = all_data.Parch.map(parch_map)"
   ]
  },
  {
   "cell_type": "markdown",
   "metadata": {},
   "source": [
    "The Pclass already correlates with survival (inversely)."
   ]
  },
  {
   "cell_type": "code",
   "execution_count": 14,
   "metadata": {},
   "outputs": [
    {
     "data": {
      "image/png": "[encoded data removed]",
      "text/plain": [
       "<matplotlib.figure.Figure at 0x7f70087266d8>"
      ]
     },
     "metadata": {},
     "output_type": "display_data"
    }
   ],
   "source": [
    "breakdown_desc('Pclass', 'Survived', data=all_data[~all_data.Survived.isnull()])"
   ]
  },
  {
   "cell_type": "code",
   "execution_count": 15,
   "metadata": {},
   "outputs": [
    {
     "data": {
      "image/png": "[encoded data removed]",
      "text/plain": [
       "<matplotlib.figure.Figure at 0x7f70084abcf8>"
      ]
     },
     "metadata": {},
     "output_type": "display_data"
    }
   ],
   "source": [
    "breakdown_desc('SibSp', 'Survived', data=all_data[~all_data.Survived.isnull()])"
   ]
  },
  {
   "cell_type": "code",
   "execution_count": 16,
   "metadata": {},
   "outputs": [],
   "source": [
    "sibsp_map = {\n",
    "    8: 0,\n",
    "    5: 0,\n",
    "    4: 1,\n",
    "    3: 2,\n",
    "    0: 3,\n",
    "    2: 4,\n",
    "    1: 5\n",
    "}\n",
    "\n",
    "all_data.SibSp = all_data.SibSp.map(sibsp_map)"
   ]
  },
  {
   "cell_type": "code",
   "execution_count": 17,
   "metadata": {},
   "outputs": [
    {
     "data": {
      "image/png": "[encoded data removed]",
      "text/plain": [
       "<matplotlib.figure.Figure at 0x7f7008830d68>"
      ]
     },
     "metadata": {},
     "output_type": "display_data"
    }
   ],
   "source": [
    "breakdown_desc('Title', 'Survived', data=all_data[~all_data.Survived.isnull()])"
   ]
  },
  {
   "cell_type": "code",
   "execution_count": 18,
   "metadata": {},
   "outputs": [],
   "source": [
    "title_map = {\n",
    "    # Likely to help others, mostly old\n",
    "    'Rev': 0,\n",
    "    'Capt': 0,\n",
    "    \n",
    "    # Mostly adult males\n",
    "    'Mr': 1,\n",
    "    'Dr': 2,\n",
    "    \n",
    "    # Military\n",
    "    'Col': 3,\n",
    "    'Major': 3,\n",
    "    \n",
    "    # Women and children\n",
    "    'Master': 4,\n",
    "    'Miss': 5,\n",
    "    'Ms': 5,\n",
    "    'Mlle': 5,\n",
    "    'Mrs': 6,\n",
    "    'Mme': 6,\n",
    "    \n",
    "    # Lordship titles\n",
    "    'Jonkheer': 7,\n",
    "    'Don': 7,\n",
    "    'Dona': 7,\n",
    "    'Sir': 7,\n",
    "    'Lady': 7,\n",
    "    'Countess': 7\n",
    "}\n",
    "\n",
    "all_data.Title = all_data.Title.map(title_map)"
   ]
  },
  {
   "cell_type": "code",
   "execution_count": 19,
   "metadata": {},
   "outputs": [
    {
     "data": {
      "image/png": "[encoded data removed]",
      "text/plain": [
       "<matplotlib.figure.Figure at 0x7f700841e358>"
      ]
     },
     "metadata": {},
     "output_type": "display_data"
    }
   ],
   "source": [
    "breakdown_desc('Deck', 'Survived', data=all_data[~all_data.Survived.isnull()])"
   ]
  },
  {
   "cell_type": "code",
   "execution_count": 20,
   "metadata": {},
   "outputs": [],
   "source": [
    "deck_map = {\n",
    "    'T': 0,\n",
    "    'U': 1,\n",
    "    'A': 2,\n",
    "    'G': 3,\n",
    "    'C': 4,\n",
    "    'F': 5,\n",
    "    'B': 6,\n",
    "    'E': 7,\n",
    "    'D': 8\n",
    "}\n",
    "\n",
    "all_data.Deck = all_data.Deck.map(deck_map)"
   ]
  },
  {
   "cell_type": "markdown",
   "metadata": {},
   "source": [
    "Applying the same technique to FName and LName will create false numeric correlation with something abstract like names, which leads to overfitting the data. Interestingly, this does not happen with Title! This is probably because titles are, in a way, hierarchical."
   ]
  },
  {
   "cell_type": "code",
   "execution_count": 21,
   "metadata": {},
   "outputs": [],
   "source": [
    "# surv_prob = {}\n",
    "# vcount = all_data.LName.value_counts()\n",
    "# for name in all_data.LName.unique():\n",
    "#     surv_count = np.sum(all_data[all_data.LName == name].Survived)\n",
    "#     surv_prob[name] = surv_count / vcount[name]\n",
    "\n",
    "# surv_prob_by_lname = pd.Series(surv_prob).sort_values()\n",
    "\n",
    "# lname_map = dict(zip(surv_prob_by_lname.index, np.arange(0, len(surv_prob_by_lname))))\n",
    "\n",
    "# all_data.LName = all_data.LName.map(lname_map)\n",
    "\n",
    "# surv_prob = {}\n",
    "# vcount = all_data.FName.value_counts()\n",
    "# for name in all_data.FName.unique():\n",
    "#     surv_count = np.sum(all_data[all_data.FName == name].Survived)\n",
    "#     surv_prob[name] = surv_count / vcount[name]\n",
    "\n",
    "# surv_prob_by_fname= pd.Series(surv_prob).sort_values()\n",
    "\n",
    "# fname_map = dict(zip(surv_prob_by_fname.index, np.arange(0, len(surv_prob_by_fname))))\n",
    "\n",
    "# all_data.FName = all_data.FName.map(fname_map)"
   ]
  },
  {
   "cell_type": "markdown",
   "metadata": {},
   "source": [
    "Now, we encode the remaining features then scale values to emphasize variance."
   ]
  },
  {
   "cell_type": "code",
   "execution_count": 22,
   "metadata": {},
   "outputs": [],
   "source": [
    "all_data.Sex = all_data.Sex.map({'male':0, 'female':1})\n",
    "\n",
    "all_data.LName = LabelEncoder().fit_transform(all_data.LName)\n",
    "all_data.FName = LabelEncoder().fit_transform(all_data.FName)\n",
    "\n",
    "# all_data.Fare = np.log(all_data.Fare+1)\n",
    "\n",
    "bins = np.arange(all_data.Fare.min()-1, all_data.Fare.max(), 12)\n",
    "bins[-1] = all_data.Fare.max()+1\n",
    "all_data.Fare = LabelEncoder().fit_transform(pd.cut(all_data.Fare, bins))\n",
    "\n",
    "bins = [0, 14, 18, 25, 35, 50, 60, 80]\n",
    "all_data.Age = LabelEncoder().fit_transform(pd.cut(all_data.Age, bins))\n",
    "\n",
    "to_scale = ['Age', 'Embarked', 'Fare', 'Parch', 'Pclass', 'SibSp', 'Title', 'Deck']\n",
    "all_data[to_scale] = StandardScaler().fit_transform(all_data[to_scale])"
   ]
  },
  {
   "cell_type": "code",
   "execution_count": 23,
   "metadata": {},
   "outputs": [
    {
     "data": {
      "text/html": [
       "<div>\n",
       "<style scoped>\n",
       "    .dataframe tbody tr th:only-of-type {\n",
       "        vertical-align: middle;\n",
       "    }\n",
       "\n",
       "    .dataframe tbody tr th {\n",
       "        vertical-align: top;\n",
       "    }\n",
       "\n",
       "    .dataframe thead th {\n",
       "        text-align: right;\n",
       "    }\n",
       "</style>\n",
       "<table border=\"1\" class=\"dataframe\">\n",
       "  <thead>\n",
       "    <tr style=\"text-align: right;\">\n",
       "      <th></th>\n",
       "      <th>Age</th>\n",
       "      <th>Embarked</th>\n",
       "      <th>Fare</th>\n",
       "      <th>Parch</th>\n",
       "      <th>PassengerId</th>\n",
       "      <th>Pclass</th>\n",
       "      <th>Sex</th>\n",
       "      <th>SibSp</th>\n",
       "      <th>Survived</th>\n",
       "      <th>Title</th>\n",
       "      <th>Deck</th>\n",
       "      <th>LName</th>\n",
       "      <th>FName</th>\n",
       "    </tr>\n",
       "  </thead>\n",
       "  <tbody>\n",
       "    <tr>\n",
       "      <th>0</th>\n",
       "      <td>-0.548269</td>\n",
       "      <td>-0.622279</td>\n",
       "      <td>-0.613375</td>\n",
       "      <td>-0.436573</td>\n",
       "      <td>1</td>\n",
       "      <td>0.841916</td>\n",
       "      <td>0</td>\n",
       "      <td>1.562046</td>\n",
       "      <td>0.0</td>\n",
       "      <td>-0.810604</td>\n",
       "      <td>-0.489356</td>\n",
       "      <td>29</td>\n",
       "      <td>55</td>\n",
       "    </tr>\n",
       "    <tr>\n",
       "      <th>1</th>\n",
       "      <td>0.931491</td>\n",
       "      <td>1.834926</td>\n",
       "      <td>1.102240</td>\n",
       "      <td>-0.436573</td>\n",
       "      <td>2</td>\n",
       "      <td>-1.546098</td>\n",
       "      <td>1</td>\n",
       "      <td>1.562046</td>\n",
       "      <td>1.0</td>\n",
       "      <td>1.520417</td>\n",
       "      <td>1.000334</td>\n",
       "      <td>65</td>\n",
       "      <td>27</td>\n",
       "    </tr>\n",
       "    <tr>\n",
       "      <th>2</th>\n",
       "      <td>0.191611</td>\n",
       "      <td>-0.622279</td>\n",
       "      <td>-0.613375</td>\n",
       "      <td>-0.436573</td>\n",
       "      <td>3</td>\n",
       "      <td>0.841916</td>\n",
       "      <td>1</td>\n",
       "      <td>-0.435725</td>\n",
       "      <td>1.0</td>\n",
       "      <td>1.054213</td>\n",
       "      <td>-0.489356</td>\n",
       "      <td>179</td>\n",
       "      <td>55</td>\n",
       "    </tr>\n",
       "    <tr>\n",
       "      <th>3</th>\n",
       "      <td>0.191611</td>\n",
       "      <td>-0.622279</td>\n",
       "      <td>0.530368</td>\n",
       "      <td>-0.436573</td>\n",
       "      <td>4</td>\n",
       "      <td>-1.546098</td>\n",
       "      <td>1</td>\n",
       "      <td>1.562046</td>\n",
       "      <td>1.0</td>\n",
       "      <td>1.520417</td>\n",
       "      <td>1.000334</td>\n",
       "      <td>90</td>\n",
       "      <td>55</td>\n",
       "    </tr>\n",
       "    <tr>\n",
       "      <th>4</th>\n",
       "      <td>0.191611</td>\n",
       "      <td>-0.622279</td>\n",
       "      <td>-0.613375</td>\n",
       "      <td>-0.436573</td>\n",
       "      <td>5</td>\n",
       "      <td>0.841916</td>\n",
       "      <td>0</td>\n",
       "      <td>-0.435725</td>\n",
       "      <td>0.0</td>\n",
       "      <td>-0.810604</td>\n",
       "      <td>-0.489356</td>\n",
       "      <td>5</td>\n",
       "      <td>66</td>\n",
       "    </tr>\n",
       "  </tbody>\n",
       "</table>\n",
       "</div>"
      ],
      "text/plain": [
       "        Age  Embarked      Fare     Parch  PassengerId    Pclass  Sex  \\\n",
       "0 -0.548269 -0.622279 -0.613375 -0.436573            1  0.841916    0   \n",
       "1  0.931491  1.834926  1.102240 -0.436573            2 -1.546098    1   \n",
       "2  0.191611 -0.622279 -0.613375 -0.436573            3  0.841916    1   \n",
       "3  0.191611 -0.622279  0.530368 -0.436573            4 -1.546098    1   \n",
       "4  0.191611 -0.622279 -0.613375 -0.436573            5  0.841916    0   \n",
       "\n",
       "      SibSp  Survived     Title      Deck  LName  FName  \n",
       "0  1.562046       0.0 -0.810604 -0.489356     29     55  \n",
       "1  1.562046       1.0  1.520417  1.000334     65     27  \n",
       "2 -0.435725       1.0  1.054213 -0.489356    179     55  \n",
       "3  1.562046       1.0  1.520417  1.000334     90     55  \n",
       "4 -0.435725       0.0 -0.810604 -0.489356      5     66  "
      ]
     },
     "execution_count": 23,
     "metadata": {},
     "output_type": "execute_result"
    }
   ],
   "source": [
    "all_data.head()"
   ]
  },
  {
   "cell_type": "code",
   "execution_count": 24,
   "metadata": {},
   "outputs": [],
   "source": [
    "data_train = all_data[~all_data.Survived.isnull()].drop('PassengerId', axis=1)\n",
    "data_test = all_data[all_data.Survived.isnull()].drop('Survived', axis=1)\n",
    "\n",
    "data_train.reset_index(drop=True, inplace=True)\n",
    "data_test.reset_index(drop=True, inplace=True)\n",
    "\n",
    "data_train.to_csv('train_proc.csv', index=False)\n",
    "data_test.to_csv('test_proc.csv', index=False)"
   ]
  },
  {
   "cell_type": "code",
   "execution_count": 25,
   "metadata": {},
   "outputs": [
    {
     "data": {
      "text/plain": [
       "<matplotlib.axes._subplots.AxesSubplot at 0x7f700845b3c8>"
      ]
     },
     "execution_count": 25,
     "metadata": {},
     "output_type": "execute_result"
    },
    {
     "data": {
      "image/png": "[encoded data removed]",
      "text/plain": [
       "<matplotlib.figure.Figure at 0x7f700a8b1240>"
      ]
     },
     "metadata": {},
     "output_type": "display_data"
    }
   ],
   "source": [
    "sns.heatmap(data_train.corr())"
   ]
  },
  {
   "cell_type": "markdown",
   "metadata": {},
   "source": [
    "# Building a Simple Stack of Models"
   ]
  },
  {
   "cell_type": "markdown",
   "metadata": {},
   "source": [
    "Let's try a simple stack of models without grid searching and using simple wieghted votes."
   ]
  },
  {
   "cell_type": "code",
   "execution_count": 30,
   "metadata": {},
   "outputs": [
    {
     "name": "stdout",
     "output_type": "stream",
     "text": [
      "Training...\n",
      "Iter: 0\n",
      "Iter: 1\n",
      "Iter: 2\n",
      "Iter: 3\n",
      "Iter: 4\n",
      "Iter: 5\n",
      "Iter: 6\n",
      "Iter: 7\n",
      "Iter: 8\n",
      "Iter: 9\n",
      "Iter: 10\n",
      "Iter: 11\n",
      "Iter: 12\n",
      "Iter: 13\n",
      "Iter: 14\n",
      "Iter: 15\n",
      "Iter: 16\n",
      "Iter: 17\n",
      "Iter: 18\n",
      "Iter: 19\n",
      "Done.\n",
      "Avg. Acc: 0.7942156897156899\n"
     ]
    }
   ],
   "source": [
    "import warnings\n",
    "warnings.filterwarnings(\"ignore\")  # XGB/numpy Warning\n",
    "\n",
    "X = data_train.drop('Survived', axis=1)\n",
    "y = data_train.Survived\n",
    "\n",
    "skf = StratifiedKFold(n_splits=8)\n",
    "\n",
    "models = [SVC(), LogisticRegression(), XGBClassifier(), RandomForestClassifier(), LinearDiscriminantAnalysis()]\n",
    "\n",
    "model_stack = []\n",
    "\n",
    "trained_comm = {}\n",
    "\n",
    "iterations = 20\n",
    "\n",
    "acc_tot = 0.\n",
    "\n",
    "print(\"Training...\")\n",
    "for i in range(iterations):\n",
    "    print('Iter:', i)\n",
    "    for train_index, test_index in skf.split(X, y):\n",
    "        X_train = X.iloc[train_index]\n",
    "        y_train = y.iloc[train_index]\n",
    "        X_test = X.iloc[test_index]\n",
    "        y_test = y.iloc[test_index]\n",
    "\n",
    "        for base in models:\n",
    "            model = skb.clone(base)\n",
    "            model.fit(X_train, y_train)\n",
    "            acc = accuracy_score(y_test, model.predict(X_test))\n",
    "            acc_tot += acc\n",
    "            model_stack.append((model, acc))\n",
    "print('Done.')            \n",
    "print(\"Avg. Acc:\", acc_tot / len(model_stack))"
   ]
  },
  {
   "cell_type": "code",
   "execution_count": 31,
   "metadata": {},
   "outputs": [
    {
     "data": {
      "text/plain": [
       "<matplotlib.axes._subplots.AxesSubplot at 0x7f7008420e10>"
      ]
     },
     "execution_count": 31,
     "metadata": {},
     "output_type": "execute_result"
    },
    {
     "data": {
      "image/png": "[encoded data removed]",
      "text/plain": [
       "<matplotlib.figure.Figure at 0x7f70085124a8>"
      ]
     },
     "metadata": {},
     "output_type": "display_data"
    }
   ],
   "source": [
    "model = model_stack[3][0]\n",
    "importances = model.feature_importances_\n",
    "table = pd.Series(importances, index = X_test.columns).sort_values()\n",
    "table.plot(kind='barh')"
   ]
  },
  {
   "cell_type": "code",
   "execution_count": 32,
   "metadata": {},
   "outputs": [
    {
     "data": {
      "text/plain": [
       "0    270\n",
       "1    148\n",
       "Name: Survived, dtype: int64"
      ]
     },
     "execution_count": 32,
     "metadata": {},
     "output_type": "execute_result"
    }
   ],
   "source": [
    "pred = np.zeros(data_test.shape[0])\n",
    "\n",
    "X_test = data_test.drop('PassengerId', axis=1)\n",
    "\n",
    "for model, w in model_stack:\n",
    "    pred += model.predict(X_test) * w\n",
    "pred = np.round(pred/len(model_stack))\n",
    "\n",
    "df = pd.DataFrame(columns=['PassengerId', 'Survived'])\n",
    "df['PassengerId'] = data_test.PassengerId\n",
    "df.Survived =  pd.to_numeric(pred, downcast='integer')\n",
    "\n",
    "df.to_csv('output.csv', index=False)\n",
    "\n",
    "df.Survived.value_counts()"
   ]
  },
  {
   "cell_type": "markdown",
   "metadata": {},
   "source": [
    "This model scored ~82.3% on the leaderboard."
   ]
  }
 ],
 "metadata": {
  "kernelspec": {
   "display_name": "Python 3",
   "language": "python",
   "name": "python3"
  },
  "language_info": {
   "codemirror_mode": {
    "name": "ipython",
    "version": 3
   },
   "file_extension": ".py",
   "mimetype": "text/x-python",
   "name": "python",
   "nbconvert_exporter": "python",
   "pygments_lexer": "ipython3",
   "version": "3.5.2"
  }
 },
 "nbformat": 4,
 "nbformat_minor": 2
}
