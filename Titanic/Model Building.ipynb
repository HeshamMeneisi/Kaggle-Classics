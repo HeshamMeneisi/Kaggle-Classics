{
 "cells": [
  {
   "cell_type": "markdown",
   "metadata": {
    "_cell_guid": "01ceeb34-782f-49a8-a1fb-7ab3f6b50450",
    "_uuid": "c7b00b6b013494076cd53ecb310f5fed17f23c28"
   },
   "source": [
    "# Introduction"
   ]
  },
  {
   "cell_type": "markdown",
   "metadata": {
    "_cell_guid": "adb74efc-97c9-4c3f-bb38-ecf7ad99f89d",
    "_uuid": "7700b18a7e86208630272f86a0415b7fbc02e95e"
   },
   "source": [
    "This is my first attempt on a Kaggle competition! I spent some time analyzing the Titanic probelm and came up with a quick solution with fine accuracy.  The full data exploration and analysis is available at this repository:  https://goo.gl/EYFsdg"
   ]
  },
  {
   "cell_type": "markdown",
   "metadata": {
    "_cell_guid": "620ebf37-de2d-46ae-9f8a-825df14314f8",
    "_uuid": "2756b98e9a75a7ef6cedc8ef6bc07f1161fba537"
   },
   "source": [
    "# Loading The Data"
   ]
  },
  {
   "cell_type": "code",
   "execution_count": 37,
   "metadata": {
    "_cell_guid": "f40d7942-eb24-4847-882f-f8838cd1ac2d",
    "_uuid": "20a25a696e1fa1fa0d822204cd261fee344a7ea3"
   },
   "outputs": [
    {
     "data": {
      "text/html": [
       "<div>\n",
       "<style scoped>\n",
       "    .dataframe tbody tr th:only-of-type {\n",
       "        vertical-align: middle;\n",
       "    }\n",
       "\n",
       "    .dataframe tbody tr th {\n",
       "        vertical-align: top;\n",
       "    }\n",
       "\n",
       "    .dataframe thead th {\n",
       "        text-align: right;\n",
       "    }\n",
       "</style>\n",
       "<table border=\"1\" class=\"dataframe\">\n",
       "  <thead>\n",
       "    <tr style=\"text-align: right;\">\n",
       "      <th></th>\n",
       "      <th>Age</th>\n",
       "      <th>Cabin</th>\n",
       "      <th>Embarked</th>\n",
       "      <th>Fare</th>\n",
       "      <th>Name</th>\n",
       "      <th>Parch</th>\n",
       "      <th>PassengerId</th>\n",
       "      <th>Pclass</th>\n",
       "      <th>Sex</th>\n",
       "      <th>SibSp</th>\n",
       "      <th>Survived</th>\n",
       "      <th>Ticket</th>\n",
       "    </tr>\n",
       "  </thead>\n",
       "  <tbody>\n",
       "    <tr>\n",
       "      <th>count</th>\n",
       "      <td>1046.000000</td>\n",
       "      <td>295</td>\n",
       "      <td>1307</td>\n",
       "      <td>1308.000000</td>\n",
       "      <td>1309</td>\n",
       "      <td>1309.000000</td>\n",
       "      <td>1309.000000</td>\n",
       "      <td>1309.000000</td>\n",
       "      <td>1309</td>\n",
       "      <td>1309.000000</td>\n",
       "      <td>891.000000</td>\n",
       "      <td>1309</td>\n",
       "    </tr>\n",
       "    <tr>\n",
       "      <th>unique</th>\n",
       "      <td>NaN</td>\n",
       "      <td>186</td>\n",
       "      <td>3</td>\n",
       "      <td>NaN</td>\n",
       "      <td>1307</td>\n",
       "      <td>NaN</td>\n",
       "      <td>NaN</td>\n",
       "      <td>NaN</td>\n",
       "      <td>2</td>\n",
       "      <td>NaN</td>\n",
       "      <td>NaN</td>\n",
       "      <td>929</td>\n",
       "    </tr>\n",
       "    <tr>\n",
       "      <th>top</th>\n",
       "      <td>NaN</td>\n",
       "      <td>C23 C25 C27</td>\n",
       "      <td>S</td>\n",
       "      <td>NaN</td>\n",
       "      <td>Kelly, Mr. James</td>\n",
       "      <td>NaN</td>\n",
       "      <td>NaN</td>\n",
       "      <td>NaN</td>\n",
       "      <td>male</td>\n",
       "      <td>NaN</td>\n",
       "      <td>NaN</td>\n",
       "      <td>CA. 2343</td>\n",
       "    </tr>\n",
       "    <tr>\n",
       "      <th>freq</th>\n",
       "      <td>NaN</td>\n",
       "      <td>6</td>\n",
       "      <td>914</td>\n",
       "      <td>NaN</td>\n",
       "      <td>2</td>\n",
       "      <td>NaN</td>\n",
       "      <td>NaN</td>\n",
       "      <td>NaN</td>\n",
       "      <td>843</td>\n",
       "      <td>NaN</td>\n",
       "      <td>NaN</td>\n",
       "      <td>11</td>\n",
       "    </tr>\n",
       "    <tr>\n",
       "      <th>mean</th>\n",
       "      <td>29.881138</td>\n",
       "      <td>NaN</td>\n",
       "      <td>NaN</td>\n",
       "      <td>33.295479</td>\n",
       "      <td>NaN</td>\n",
       "      <td>0.385027</td>\n",
       "      <td>655.000000</td>\n",
       "      <td>2.294882</td>\n",
       "      <td>NaN</td>\n",
       "      <td>0.498854</td>\n",
       "      <td>0.383838</td>\n",
       "      <td>NaN</td>\n",
       "    </tr>\n",
       "    <tr>\n",
       "      <th>std</th>\n",
       "      <td>14.413493</td>\n",
       "      <td>NaN</td>\n",
       "      <td>NaN</td>\n",
       "      <td>51.758668</td>\n",
       "      <td>NaN</td>\n",
       "      <td>0.865560</td>\n",
       "      <td>378.020061</td>\n",
       "      <td>0.837836</td>\n",
       "      <td>NaN</td>\n",
       "      <td>1.041658</td>\n",
       "      <td>0.486592</td>\n",
       "      <td>NaN</td>\n",
       "    </tr>\n",
       "    <tr>\n",
       "      <th>min</th>\n",
       "      <td>0.170000</td>\n",
       "      <td>NaN</td>\n",
       "      <td>NaN</td>\n",
       "      <td>0.000000</td>\n",
       "      <td>NaN</td>\n",
       "      <td>0.000000</td>\n",
       "      <td>1.000000</td>\n",
       "      <td>1.000000</td>\n",
       "      <td>NaN</td>\n",
       "      <td>0.000000</td>\n",
       "      <td>0.000000</td>\n",
       "      <td>NaN</td>\n",
       "    </tr>\n",
       "    <tr>\n",
       "      <th>25%</th>\n",
       "      <td>21.000000</td>\n",
       "      <td>NaN</td>\n",
       "      <td>NaN</td>\n",
       "      <td>7.895800</td>\n",
       "      <td>NaN</td>\n",
       "      <td>0.000000</td>\n",
       "      <td>328.000000</td>\n",
       "      <td>2.000000</td>\n",
       "      <td>NaN</td>\n",
       "      <td>0.000000</td>\n",
       "      <td>0.000000</td>\n",
       "      <td>NaN</td>\n",
       "    </tr>\n",
       "    <tr>\n",
       "      <th>50%</th>\n",
       "      <td>28.000000</td>\n",
       "      <td>NaN</td>\n",
       "      <td>NaN</td>\n",
       "      <td>14.454200</td>\n",
       "      <td>NaN</td>\n",
       "      <td>0.000000</td>\n",
       "      <td>655.000000</td>\n",
       "      <td>3.000000</td>\n",
       "      <td>NaN</td>\n",
       "      <td>0.000000</td>\n",
       "      <td>0.000000</td>\n",
       "      <td>NaN</td>\n",
       "    </tr>\n",
       "    <tr>\n",
       "      <th>75%</th>\n",
       "      <td>39.000000</td>\n",
       "      <td>NaN</td>\n",
       "      <td>NaN</td>\n",
       "      <td>31.275000</td>\n",
       "      <td>NaN</td>\n",
       "      <td>0.000000</td>\n",
       "      <td>982.000000</td>\n",
       "      <td>3.000000</td>\n",
       "      <td>NaN</td>\n",
       "      <td>1.000000</td>\n",
       "      <td>1.000000</td>\n",
       "      <td>NaN</td>\n",
       "    </tr>\n",
       "    <tr>\n",
       "      <th>max</th>\n",
       "      <td>80.000000</td>\n",
       "      <td>NaN</td>\n",
       "      <td>NaN</td>\n",
       "      <td>512.329200</td>\n",
       "      <td>NaN</td>\n",
       "      <td>9.000000</td>\n",
       "      <td>1309.000000</td>\n",
       "      <td>3.000000</td>\n",
       "      <td>NaN</td>\n",
       "      <td>8.000000</td>\n",
       "      <td>1.000000</td>\n",
       "      <td>NaN</td>\n",
       "    </tr>\n",
       "  </tbody>\n",
       "</table>\n",
       "</div>"
      ],
      "text/plain": [
       "                Age        Cabin Embarked         Fare              Name  \\\n",
       "count   1046.000000          295     1307  1308.000000              1309   \n",
       "unique          NaN          186        3          NaN              1307   \n",
       "top             NaN  C23 C25 C27        S          NaN  Kelly, Mr. James   \n",
       "freq            NaN            6      914          NaN                 2   \n",
       "mean      29.881138          NaN      NaN    33.295479               NaN   \n",
       "std       14.413493          NaN      NaN    51.758668               NaN   \n",
       "min        0.170000          NaN      NaN     0.000000               NaN   \n",
       "25%       21.000000          NaN      NaN     7.895800               NaN   \n",
       "50%       28.000000          NaN      NaN    14.454200               NaN   \n",
       "75%       39.000000          NaN      NaN    31.275000               NaN   \n",
       "max       80.000000          NaN      NaN   512.329200               NaN   \n",
       "\n",
       "              Parch  PassengerId       Pclass   Sex        SibSp    Survived  \\\n",
       "count   1309.000000  1309.000000  1309.000000  1309  1309.000000  891.000000   \n",
       "unique          NaN          NaN          NaN     2          NaN         NaN   \n",
       "top             NaN          NaN          NaN  male          NaN         NaN   \n",
       "freq            NaN          NaN          NaN   843          NaN         NaN   \n",
       "mean       0.385027   655.000000     2.294882   NaN     0.498854    0.383838   \n",
       "std        0.865560   378.020061     0.837836   NaN     1.041658    0.486592   \n",
       "min        0.000000     1.000000     1.000000   NaN     0.000000    0.000000   \n",
       "25%        0.000000   328.000000     2.000000   NaN     0.000000    0.000000   \n",
       "50%        0.000000   655.000000     3.000000   NaN     0.000000    0.000000   \n",
       "75%        0.000000   982.000000     3.000000   NaN     1.000000    1.000000   \n",
       "max        9.000000  1309.000000     3.000000   NaN     8.000000    1.000000   \n",
       "\n",
       "          Ticket  \n",
       "count       1309  \n",
       "unique       929  \n",
       "top     CA. 2343  \n",
       "freq          11  \n",
       "mean         NaN  \n",
       "std          NaN  \n",
       "min          NaN  \n",
       "25%          NaN  \n",
       "50%          NaN  \n",
       "75%          NaN  \n",
       "max          NaN  "
      ]
     },
     "execution_count": 37,
     "metadata": {},
     "output_type": "execute_result"
    }
   ],
   "source": [
    "import pandas as pd\n",
    "import numpy as np\n",
    "import seaborn as sns\n",
    "import matplotlib.pyplot as plt\n",
    "import sklearn.base as skb\n",
    "from sklearn.preprocessing import LabelEncoder, StandardScaler\n",
    "from sklearn.neural_network import MLPClassifier\n",
    "from sklearn.ensemble import RandomForestClassifier, GradientBoostingClassifier, AdaBoostClassifier, ExtraTreesClassifier\n",
    "from sklearn.tree import DecisionTreeClassifier\n",
    "from sklearn.metrics import accuracy_score\n",
    "from sklearn.model_selection import train_test_split, GridSearchCV\n",
    "from sklearn.model_selection import StratifiedKFold\n",
    "from sklearn.svm import SVC\n",
    "from sklearn.linear_model import LogisticRegression\n",
    "from sklearn.naive_bayes import GaussianNB\n",
    "from sklearn.neighbors import KNeighborsClassifier\n",
    "from sklearn.discriminant_analysis import LinearDiscriminantAnalysis, QuadraticDiscriminantAnalysis\n",
    "from xgboost.sklearn import XGBClassifier\n",
    "\n",
    "data = pd.read_csv('train.csv')\n",
    "\n",
    "test_data = pd.read_csv('test.csv')\n",
    "\n",
    "all_data = pd.concat([data, test_data])\n",
    "all_data.reset_index(drop=True, inplace=True)\n",
    "\n",
    "all_data.describe(include='all')"
   ]
  },
  {
   "cell_type": "markdown",
   "metadata": {
    "_cell_guid": "0ba03c95-039b-49d5-8ca2-a92b7a910e36",
    "_uuid": "119e9e2d9dc237835cfffc96d3519241500ada55"
   },
   "source": [
    "# Feature Engineering & Cleanup"
   ]
  },
  {
   "cell_type": "code",
   "execution_count": 38,
   "metadata": {
    "_cell_guid": "7e8d5c26-c714-4c77-a5c9-9a0c7ed80de1",
    "_uuid": "3b59a5233fab63322e5bffbda660db358914a05c"
   },
   "outputs": [],
   "source": [
    "def breakdown_desc(attrib, eff_attrib, orient='v', data=data):\n",
    "    if orient == 'h':\n",
    "        x = eff_attrib\n",
    "        y = attrib\n",
    "    else:\n",
    "        x = attrib\n",
    "        y = eff_attrib\n",
    "    sns.barplot(x=data[x], y=data[y], order=data.groupby(by=attrib)[eff_attrib].mean().sort_values().index)\n",
    "    plt.tight_layout()"
   ]
  },
  {
   "cell_type": "markdown",
   "metadata": {
    "_cell_guid": "395d7414-fd6d-4289-b1ab-20733802ed28",
    "_uuid": "447b527836647b7f26f1e445a456dcb4fe19ce55"
   },
   "source": [
    "It is obvious that Name is too complex to use and Cabin has a lot of missing values and the rest are mostly unique. However, we can extract some really useful features from Name and Cabin before throwing them out."
   ]
  },
  {
   "cell_type": "code",
   "execution_count": 39,
   "metadata": {
    "_cell_guid": "2ceed042-d1bf-42ce-993e-242779c86e7e",
    "_uuid": "2dfcefa51f1a9473b74d000e49aebd8aa3db534d"
   },
   "outputs": [],
   "source": [
    "all_data['Title'] = all_data.Name.str.extract('([A-Za-z]+)\\\\.', expand=False)\n",
    "\n",
    "all_data.Cabin.fillna('U', inplace=True)\n",
    "all_data['Deck'] = all_data.Cabin.apply(lambda x: x[0])\n",
    "\n",
    "all_data['LName'] = all_data.Name.str.extract('([A-Za-z]+),', expand=False)\n",
    "\n",
    "all_data['FName'] = all_data.Name.str.extract('\\\\(([A-Za-z]+)', expand=False)\n",
    "all_data.loc[all_data.FName.isnull(), 'FName'] = all_data.Name[all_data.FName.isnull()] \\\n",
    ".str.extract('\\\\.\\s([A-Za-z]+)', expand=False)\n",
    "\n",
    "vc = all_data.LName.value_counts()\n",
    "other = vc[vc < 2]\n",
    "other[:] = 'Other'\n",
    "all_data.LName = all_data.LName.replace(other)\n",
    "\n",
    "vc = all_data.FName.value_counts()\n",
    "other = vc[vc < 4]\n",
    "other[:] = 'Other'\n",
    "all_data.FName = all_data.FName.replace(other)\n",
    "\n",
    "\n",
    "# all_data.drop(columns=['Name', 'Cabin', 'Ticket'], inplace=True)\n",
    "all_data.drop('Name', axis=1, inplace=True)\n",
    "all_data.drop('Cabin', axis=1, inplace=True)\n",
    "all_data.drop('Ticket', axis=1, inplace=True)"
   ]
  },
  {
   "cell_type": "markdown",
   "metadata": {
    "_cell_guid": "e050c485-fb4a-4b77-9bcf-5c0fff4de1d0",
    "_uuid": "89bd0d4c421858fe2399ca5bd981bdc4fa5cdd84"
   },
   "source": [
    "Using the median Age per Title is even more accurate than a regressor, regarding final model accuracy."
   ]
  },
  {
   "cell_type": "code",
   "execution_count": 40,
   "metadata": {
    "_cell_guid": "846544aa-a8a7-4468-99f0-33520544a424",
    "_uuid": "1115732d2de472e575836fe7650323fee7144f63"
   },
   "outputs": [
    {
     "data": {
      "image/png": "[encoded data removed]",
      "text/plain": [
       "<matplotlib.figure.Figure at 0x7f700a98d1d0>"
      ]
     },
     "metadata": {},
     "output_type": "display_data"
    }
   ],
   "source": [
    "title_med_age = all_data[~all_data.Age.isnull()].groupby(by='Title').Age.median()\n",
    "sns.barplot(y=title_med_age.index, x=title_med_age.values, \n",
    "            order=title_med_age.sort_values().index).set(xlabel='Median Age')\n",
    "all_data.loc[all_data.Age.isnull(), 'Age'] = title_med_age[all_data[all_data.Age.isnull()].Title].values"
   ]
  },
  {
   "cell_type": "markdown",
   "metadata": {
    "_cell_guid": "6f37b77a-61a5-4e01-8968-4b8f9d363c63",
    "_uuid": "6fa7530f868c380e5f159cdbca24003271ae4063"
   },
   "source": [
    "Port S has a dominant probability and since only two Embarked entries are missing, it is reasonable to just assume them to be S. "
   ]
  },
  {
   "cell_type": "code",
   "execution_count": 41,
   "metadata": {
    "_cell_guid": "0d46ae12-ca17-4739-a7a6-edad9419abaf",
    "_uuid": "1ccc30c4fbb1bc22a455887b0aee650098212604"
   },
   "outputs": [
    {
     "data": {
      "image/png": "[encoded data removed]",
      "text/plain": [
       "<matplotlib.figure.Figure at 0x7f704c7f6358>"
      ]
     },
     "metadata": {},
     "output_type": "display_data"
    }
   ],
   "source": [
    "sns.countplot(all_data.Embarked)\n",
    "all_data.Embarked.fillna('S', inplace=True)"
   ]
  },
  {
   "cell_type": "markdown",
   "metadata": {
    "_cell_guid": "0b9010aa-2f9b-4446-ac1a-05c14724058a",
    "_uuid": "1692a2077bb8570c2a223246dff3fc4e5090d8cf"
   },
   "source": [
    "We can use the median fare per class for that missing Fare entry."
   ]
  },
  {
   "cell_type": "code",
   "execution_count": 42,
   "metadata": {
    "_cell_guid": "dc2ffc41-6773-4255-8f88-3717b64ea3ac",
    "_uuid": "e70b9c69444d20315381f67dc16437a84fb2a0a8"
   },
   "outputs": [
    {
     "data": {
      "image/png": "[encoded data removed]",
      "text/plain": [
       "<matplotlib.figure.Figure at 0x7f700b0baef0>"
      ]
     },
     "metadata": {},
     "output_type": "display_data"
    }
   ],
   "source": [
    "class_med_fare = all_data[~all_data.Fare.isnull()].groupby(by='Pclass').Fare.median()\n",
    "\n",
    "sns.barplot(x=class_med_fare.index, y=class_med_fare.values,\n",
    "            order=class_med_fare.sort_values().index).set(ylabel='Fare')\n",
    "\n",
    "all_data.loc[all_data.Fare.isnull(), 'Fare'] = class_med_fare[all_data[all_data.Fare.isnull()].Pclass].values"
   ]
  },
  {
   "cell_type": "code",
   "execution_count": 43,
   "metadata": {
    "_cell_guid": "603c0b3c-6c87-4405-8e3d-c076d4c2eeb3",
    "_uuid": "3095099271412dcffc8947f57e1fce210287304f"
   },
   "outputs": [
    {
     "data": {
      "text/html": [
       "<div>\n",
       "<style scoped>\n",
       "    .dataframe tbody tr th:only-of-type {\n",
       "        vertical-align: middle;\n",
       "    }\n",
       "\n",
       "    .dataframe tbody tr th {\n",
       "        vertical-align: top;\n",
       "    }\n",
       "\n",
       "    .dataframe thead th {\n",
       "        text-align: right;\n",
       "    }\n",
       "</style>\n",
       "<table border=\"1\" class=\"dataframe\">\n",
       "  <thead>\n",
       "    <tr style=\"text-align: right;\">\n",
       "      <th></th>\n",
       "      <th>Age</th>\n",
       "      <th>Embarked</th>\n",
       "      <th>Fare</th>\n",
       "      <th>Parch</th>\n",
       "      <th>PassengerId</th>\n",
       "      <th>Pclass</th>\n",
       "      <th>Sex</th>\n",
       "      <th>SibSp</th>\n",
       "      <th>Survived</th>\n",
       "      <th>Title</th>\n",
       "      <th>Deck</th>\n",
       "      <th>LName</th>\n",
       "      <th>FName</th>\n",
       "    </tr>\n",
       "  </thead>\n",
       "  <tbody>\n",
       "    <tr>\n",
       "      <th>count</th>\n",
       "      <td>1309.000000</td>\n",
       "      <td>1309</td>\n",
       "      <td>1309.000000</td>\n",
       "      <td>1309.000000</td>\n",
       "      <td>1309.000000</td>\n",
       "      <td>1309.000000</td>\n",
       "      <td>1309</td>\n",
       "      <td>1309.000000</td>\n",
       "      <td>891.000000</td>\n",
       "      <td>1309</td>\n",
       "      <td>1309</td>\n",
       "      <td>1309</td>\n",
       "      <td>1309</td>\n",
       "    </tr>\n",
       "    <tr>\n",
       "      <th>unique</th>\n",
       "      <td>NaN</td>\n",
       "      <td>3</td>\n",
       "      <td>NaN</td>\n",
       "      <td>NaN</td>\n",
       "      <td>NaN</td>\n",
       "      <td>NaN</td>\n",
       "      <td>2</td>\n",
       "      <td>NaN</td>\n",
       "      <td>NaN</td>\n",
       "      <td>18</td>\n",
       "      <td>9</td>\n",
       "      <td>240</td>\n",
       "      <td>67</td>\n",
       "    </tr>\n",
       "    <tr>\n",
       "      <th>top</th>\n",
       "      <td>NaN</td>\n",
       "      <td>S</td>\n",
       "      <td>NaN</td>\n",
       "      <td>NaN</td>\n",
       "      <td>NaN</td>\n",
       "      <td>NaN</td>\n",
       "      <td>male</td>\n",
       "      <td>NaN</td>\n",
       "      <td>NaN</td>\n",
       "      <td>Mr</td>\n",
       "      <td>U</td>\n",
       "      <td>Other</td>\n",
       "      <td>Other</td>\n",
       "    </tr>\n",
       "    <tr>\n",
       "      <th>freq</th>\n",
       "      <td>NaN</td>\n",
       "      <td>916</td>\n",
       "      <td>NaN</td>\n",
       "      <td>NaN</td>\n",
       "      <td>NaN</td>\n",
       "      <td>NaN</td>\n",
       "      <td>843</td>\n",
       "      <td>NaN</td>\n",
       "      <td>NaN</td>\n",
       "      <td>757</td>\n",
       "      <td>1014</td>\n",
       "      <td>633</td>\n",
       "      <td>684</td>\n",
       "    </tr>\n",
       "    <tr>\n",
       "      <th>mean</th>\n",
       "      <td>29.432521</td>\n",
       "      <td>NaN</td>\n",
       "      <td>33.276193</td>\n",
       "      <td>0.385027</td>\n",
       "      <td>655.000000</td>\n",
       "      <td>2.294882</td>\n",
       "      <td>NaN</td>\n",
       "      <td>0.498854</td>\n",
       "      <td>0.383838</td>\n",
       "      <td>NaN</td>\n",
       "      <td>NaN</td>\n",
       "      <td>NaN</td>\n",
       "      <td>NaN</td>\n",
       "    </tr>\n",
       "    <tr>\n",
       "      <th>std</th>\n",
       "      <td>13.163767</td>\n",
       "      <td>NaN</td>\n",
       "      <td>51.743584</td>\n",
       "      <td>0.865560</td>\n",
       "      <td>378.020061</td>\n",
       "      <td>0.837836</td>\n",
       "      <td>NaN</td>\n",
       "      <td>1.041658</td>\n",
       "      <td>0.486592</td>\n",
       "      <td>NaN</td>\n",
       "      <td>NaN</td>\n",
       "      <td>NaN</td>\n",
       "      <td>NaN</td>\n",
       "    </tr>\n",
       "    <tr>\n",
       "      <th>min</th>\n",
       "      <td>0.170000</td>\n",
       "      <td>NaN</td>\n",
       "      <td>0.000000</td>\n",
       "      <td>0.000000</td>\n",
       "      <td>1.000000</td>\n",
       "      <td>1.000000</td>\n",
       "      <td>NaN</td>\n",
       "      <td>0.000000</td>\n",
       "      <td>0.000000</td>\n",
       "      <td>NaN</td>\n",
       "      <td>NaN</td>\n",
       "      <td>NaN</td>\n",
       "      <td>NaN</td>\n",
       "    </tr>\n",
       "    <tr>\n",
       "      <th>25%</th>\n",
       "      <td>22.000000</td>\n",
       "      <td>NaN</td>\n",
       "      <td>7.895800</td>\n",
       "      <td>0.000000</td>\n",
       "      <td>328.000000</td>\n",
       "      <td>2.000000</td>\n",
       "      <td>NaN</td>\n",
       "      <td>0.000000</td>\n",
       "      <td>0.000000</td>\n",
       "      <td>NaN</td>\n",
       "      <td>NaN</td>\n",
       "      <td>NaN</td>\n",
       "      <td>NaN</td>\n",
       "    </tr>\n",
       "    <tr>\n",
       "      <th>50%</th>\n",
       "      <td>29.000000</td>\n",
       "      <td>NaN</td>\n",
       "      <td>14.454200</td>\n",
       "      <td>0.000000</td>\n",
       "      <td>655.000000</td>\n",
       "      <td>3.000000</td>\n",
       "      <td>NaN</td>\n",
       "      <td>0.000000</td>\n",
       "      <td>0.000000</td>\n",
       "      <td>NaN</td>\n",
       "      <td>NaN</td>\n",
       "      <td>NaN</td>\n",
       "      <td>NaN</td>\n",
       "    </tr>\n",
       "    <tr>\n",
       "      <th>75%</th>\n",
       "      <td>35.500000</td>\n",
       "      <td>NaN</td>\n",
       "      <td>31.275000</td>\n",
       "      <td>0.000000</td>\n",
       "      <td>982.000000</td>\n",
       "      <td>3.000000</td>\n",
       "      <td>NaN</td>\n",
       "      <td>1.000000</td>\n",
       "      <td>1.000000</td>\n",
       "      <td>NaN</td>\n",
       "      <td>NaN</td>\n",
       "      <td>NaN</td>\n",
       "      <td>NaN</td>\n",
       "    </tr>\n",
       "    <tr>\n",
       "      <th>max</th>\n",
       "      <td>80.000000</td>\n",
       "      <td>NaN</td>\n",
       "      <td>512.329200</td>\n",
       "      <td>9.000000</td>\n",
       "      <td>1309.000000</td>\n",
       "      <td>3.000000</td>\n",
       "      <td>NaN</td>\n",
       "      <td>8.000000</td>\n",
       "      <td>1.000000</td>\n",
       "      <td>NaN</td>\n",
       "      <td>NaN</td>\n",
       "      <td>NaN</td>\n",
       "      <td>NaN</td>\n",
       "    </tr>\n",
       "  </tbody>\n",
       "</table>\n",
       "</div>"
      ],
      "text/plain": [
       "                Age Embarked         Fare        Parch  PassengerId  \\\n",
       "count   1309.000000     1309  1309.000000  1309.000000  1309.000000   \n",
       "unique          NaN        3          NaN          NaN          NaN   \n",
       "top             NaN        S          NaN          NaN          NaN   \n",
       "freq            NaN      916          NaN          NaN          NaN   \n",
       "mean      29.432521      NaN    33.276193     0.385027   655.000000   \n",
       "std       13.163767      NaN    51.743584     0.865560   378.020061   \n",
       "min        0.170000      NaN     0.000000     0.000000     1.000000   \n",
       "25%       22.000000      NaN     7.895800     0.000000   328.000000   \n",
       "50%       29.000000      NaN    14.454200     0.000000   655.000000   \n",
       "75%       35.500000      NaN    31.275000     0.000000   982.000000   \n",
       "max       80.000000      NaN   512.329200     9.000000  1309.000000   \n",
       "\n",
       "             Pclass   Sex        SibSp    Survived Title  Deck  LName  FName  \n",
       "count   1309.000000  1309  1309.000000  891.000000  1309  1309   1309   1309  \n",
       "unique          NaN     2          NaN         NaN    18     9    240     67  \n",
       "top             NaN  male          NaN         NaN    Mr     U  Other  Other  \n",
       "freq            NaN   843          NaN         NaN   757  1014    633    684  \n",
       "mean       2.294882   NaN     0.498854    0.383838   NaN   NaN    NaN    NaN  \n",
       "std        0.837836   NaN     1.041658    0.486592   NaN   NaN    NaN    NaN  \n",
       "min        1.000000   NaN     0.000000    0.000000   NaN   NaN    NaN    NaN  \n",
       "25%        2.000000   NaN     0.000000    0.000000   NaN   NaN    NaN    NaN  \n",
       "50%        3.000000   NaN     0.000000    0.000000   NaN   NaN    NaN    NaN  \n",
       "75%        3.000000   NaN     1.000000    1.000000   NaN   NaN    NaN    NaN  \n",
       "max        3.000000   NaN     8.000000    1.000000   NaN   NaN    NaN    NaN  "
      ]
     },
     "execution_count": 43,
     "metadata": {},
     "output_type": "execute_result"
    }
   ],
   "source": [
    "all_data.describe(include='all')"
   ]
  },
  {
   "cell_type": "code",
   "execution_count": 44,
   "metadata": {
    "_cell_guid": "74264c19-81a7-4dc1-b9a5-18e11af657ce",
    "_uuid": "ce058f650a400027ff661a122cc6590f92026309"
   },
   "outputs": [
    {
     "data": {
      "text/html": [
       "<div>\n",
       "<style scoped>\n",
       "    .dataframe tbody tr th:only-of-type {\n",
       "        vertical-align: middle;\n",
       "    }\n",
       "\n",
       "    .dataframe tbody tr th {\n",
       "        vertical-align: top;\n",
       "    }\n",
       "\n",
       "    .dataframe thead th {\n",
       "        text-align: right;\n",
       "    }\n",
       "</style>\n",
       "<table border=\"1\" class=\"dataframe\">\n",
       "  <thead>\n",
       "    <tr style=\"text-align: right;\">\n",
       "      <th></th>\n",
       "      <th>Age</th>\n",
       "      <th>Embarked</th>\n",
       "      <th>Fare</th>\n",
       "      <th>Parch</th>\n",
       "      <th>PassengerId</th>\n",
       "      <th>Pclass</th>\n",
       "      <th>Sex</th>\n",
       "      <th>SibSp</th>\n",
       "      <th>Survived</th>\n",
       "      <th>Title</th>\n",
       "      <th>Deck</th>\n",
       "      <th>LName</th>\n",
       "      <th>FName</th>\n",
       "    </tr>\n",
       "  </thead>\n",
       "  <tbody>\n",
       "    <tr>\n",
       "      <th>0</th>\n",
       "      <td>22.0</td>\n",
       "      <td>S</td>\n",
       "      <td>7.2500</td>\n",
       "      <td>0</td>\n",
       "      <td>1</td>\n",
       "      <td>3</td>\n",
       "      <td>male</td>\n",
       "      <td>1</td>\n",
       "      <td>0.0</td>\n",
       "      <td>Mr</td>\n",
       "      <td>U</td>\n",
       "      <td>Braund</td>\n",
       "      <td>Other</td>\n",
       "    </tr>\n",
       "    <tr>\n",
       "      <th>1</th>\n",
       "      <td>38.0</td>\n",
       "      <td>C</td>\n",
       "      <td>71.2833</td>\n",
       "      <td>0</td>\n",
       "      <td>2</td>\n",
       "      <td>1</td>\n",
       "      <td>female</td>\n",
       "      <td>1</td>\n",
       "      <td>1.0</td>\n",
       "      <td>Mrs</td>\n",
       "      <td>C</td>\n",
       "      <td>Cumings</td>\n",
       "      <td>Florence</td>\n",
       "    </tr>\n",
       "    <tr>\n",
       "      <th>2</th>\n",
       "      <td>26.0</td>\n",
       "      <td>S</td>\n",
       "      <td>7.9250</td>\n",
       "      <td>0</td>\n",
       "      <td>3</td>\n",
       "      <td>3</td>\n",
       "      <td>female</td>\n",
       "      <td>0</td>\n",
       "      <td>1.0</td>\n",
       "      <td>Miss</td>\n",
       "      <td>U</td>\n",
       "      <td>Other</td>\n",
       "      <td>Other</td>\n",
       "    </tr>\n",
       "    <tr>\n",
       "      <th>3</th>\n",
       "      <td>35.0</td>\n",
       "      <td>S</td>\n",
       "      <td>53.1000</td>\n",
       "      <td>0</td>\n",
       "      <td>4</td>\n",
       "      <td>1</td>\n",
       "      <td>female</td>\n",
       "      <td>1</td>\n",
       "      <td>1.0</td>\n",
       "      <td>Mrs</td>\n",
       "      <td>C</td>\n",
       "      <td>Futrelle</td>\n",
       "      <td>Other</td>\n",
       "    </tr>\n",
       "    <tr>\n",
       "      <th>4</th>\n",
       "      <td>35.0</td>\n",
       "      <td>S</td>\n",
       "      <td>8.0500</td>\n",
       "      <td>0</td>\n",
       "      <td>5</td>\n",
       "      <td>3</td>\n",
       "      <td>male</td>\n",
       "      <td>0</td>\n",
       "      <td>0.0</td>\n",
       "      <td>Mr</td>\n",
       "      <td>U</td>\n",
       "      <td>Allen</td>\n",
       "      <td>William</td>\n",
       "    </tr>\n",
       "  </tbody>\n",
       "</table>\n",
       "</div>"
      ],
      "text/plain": [
       "    Age Embarked     Fare  Parch  PassengerId  Pclass     Sex  SibSp  \\\n",
       "0  22.0        S   7.2500      0            1       3    male      1   \n",
       "1  38.0        C  71.2833      0            2       1  female      1   \n",
       "2  26.0        S   7.9250      0            3       3  female      0   \n",
       "3  35.0        S  53.1000      0            4       1  female      1   \n",
       "4  35.0        S   8.0500      0            5       3    male      0   \n",
       "\n",
       "   Survived Title Deck     LName     FName  \n",
       "0       0.0    Mr    U    Braund     Other  \n",
       "1       1.0   Mrs    C   Cumings  Florence  \n",
       "2       1.0  Miss    U     Other     Other  \n",
       "3       1.0   Mrs    C  Futrelle     Other  \n",
       "4       0.0    Mr    U     Allen   William  "
      ]
     },
     "execution_count": 44,
     "metadata": {},
     "output_type": "execute_result"
    }
   ],
   "source": [
    "all_data.head()"
   ]
  },
  {
   "cell_type": "markdown",
   "metadata": {
    "_cell_guid": "c6630370-b259-4985-bbaa-41d562f0033d",
    "_uuid": "7d23e8d51257ec81252ee81b7de0183ab51e38ac"
   },
   "source": [
    "# Correlating and Grouping Features"
   ]
  },
  {
   "cell_type": "markdown",
   "metadata": {
    "_cell_guid": "eff71aae-7dc7-4cf9-b04d-4c2107c87278",
    "_uuid": "d6e1249f44071f8e22f4022ed148e1eeec99625f"
   },
   "source": [
    "I saw many people do this type of mapping and, at first, I was skeptical. The idea behind this type of processing is that linearly correlating features with the probability we are trying to predict improves Tree-Based model performance. Since we are using mostly trees in our stack, this greatly helps the overal performance and accuracy."
   ]
  },
  {
   "cell_type": "code",
   "execution_count": 45,
   "metadata": {
    "_cell_guid": "4bfcd004-4e60-4fd2-9d3f-634612aece06",
    "_uuid": "74fd2f05deb3320f77efb5da9e53deb4eaa24aae"
   },
   "outputs": [
    {
     "data": {
      "image/png": "[encoded data removed]",
      "text/plain": [
       "<matplotlib.figure.Figure at 0x7f7008624f60>"
      ]
     },
     "metadata": {},
     "output_type": "display_data"
    }
   ],
   "source": [
    "breakdown_desc('Embarked', 'Survived', data=all_data[~all_data.Survived.isnull()])"
   ]
  },
  {
   "cell_type": "code",
   "execution_count": 46,
   "metadata": {
    "_cell_guid": "99df9e5f-34f3-436e-8fac-27875cc5d71c",
    "_uuid": "bc39074528b89658ba4cf0cb5f38698a74776520"
   },
   "outputs": [],
   "source": [
    "emb_map = {\n",
    "    'S':0,\n",
    "    'Q':1,\n",
    "    'C':2\n",
    "}\n",
    "\n",
    "all_data.Embarked = all_data.Embarked.map(emb_map)"
   ]
  },
  {
   "cell_type": "code",
   "execution_count": 47,
   "metadata": {
    "_cell_guid": "516519c0-0b50-4bd6-8fc0-52eeeeb3fd3a",
    "_uuid": "9ee4459b75257eb30324fb0472289475754129c0"
   },
   "outputs": [
    {
     "data": {
      "image/png": "[encoded data removed]",
      "text/plain": [
       "<matplotlib.figure.Figure at 0x7f700861bd68>"
      ]
     },
     "metadata": {},
     "output_type": "display_data"
    }
   ],
   "source": [
    "breakdown_desc('Parch', 'Survived', data=all_data[~all_data.Survived.isnull()])"
   ]
  },
  {
   "cell_type": "code",
   "execution_count": 48,
   "metadata": {
    "_cell_guid": "8307ccfb-afab-484b-a588-769112ef3625",
    "_uuid": "1b1a5962458957349356063eb3bbaef9aabe880c"
   },
   "outputs": [],
   "source": [
    "parch_map = {\n",
    "    9: 0,\n",
    "    6: 1,\n",
    "    5: 2,\n",
    "    4: 3,\n",
    "    0: 4,\n",
    "    2: 5,\n",
    "    1: 6,\n",
    "    3: 7\n",
    "}\n",
    "\n",
    "\n",
    "all_data.Parch = all_data.Parch.map(parch_map)"
   ]
  },
  {
   "cell_type": "markdown",
   "metadata": {
    "_cell_guid": "5722ed0c-2947-43a9-9d6d-ae4df1b92f57",
    "_uuid": "12e9721a1d229536726806ee3005073cc67de60f"
   },
   "source": [
    "The Pclass already correlates with survival (inversely)."
   ]
  },
  {
   "cell_type": "code",
   "execution_count": 49,
   "metadata": {
    "_cell_guid": "2e1975b1-54c9-4854-93d5-7b1e754e83bc",
    "_uuid": "87c4366b9fb3ec009bd2a33db8476048e080b54d"
   },
   "outputs": [
    {
     "data": {
      "image/png": "[encoded data removed]",
      "text/plain": [
       "<matplotlib.figure.Figure at 0x7f700b0b5f98>"
      ]
     },
     "metadata": {},
     "output_type": "display_data"
    }
   ],
   "source": [
    "breakdown_desc('Pclass', 'Survived', data=all_data[~all_data.Survived.isnull()])"
   ]
  },
  {
   "cell_type": "code",
   "execution_count": 50,
   "metadata": {
    "_cell_guid": "773f9325-f01a-4b32-8370-bdcd4261c9ba",
    "_uuid": "1c67e73ed28c0046e987d174686155a92ef3643a"
   },
   "outputs": [
    {
     "data": {
      "image/png": "[encoded data removed]",
      "text/plain": [
       "<matplotlib.figure.Figure at 0x7f700b0b9ef0>"
      ]
     },
     "metadata": {},
     "output_type": "display_data"
    }
   ],
   "source": [
    "breakdown_desc('SibSp', 'Survived', data=all_data[~all_data.Survived.isnull()])"
   ]
  },
  {
   "cell_type": "code",
   "execution_count": 51,
   "metadata": {
    "_cell_guid": "e985f589-71ae-488a-8d03-aab628b16c0e",
    "_uuid": "7a1d3d451c41679d471d03306a4770e15d399206"
   },
   "outputs": [],
   "source": [
    "sibsp_map = {\n",
    "    8: 0,\n",
    "    5: 0,\n",
    "    4: 1,\n",
    "    3: 2,\n",
    "    0: 3,\n",
    "    2: 4,\n",
    "    1: 5\n",
    "}\n",
    "\n",
    "all_data.SibSp = all_data.SibSp.map(sibsp_map)"
   ]
  },
  {
   "cell_type": "code",
   "execution_count": 52,
   "metadata": {
    "_cell_guid": "7edb5e6f-6a13-4db8-9fc1-e1ef4d47dc21",
    "_uuid": "e425a93387ba3c270534e4e3699a224e92407494"
   },
   "outputs": [
    {
     "data": {
      "image/png": "[encoded data removed]",
      "text/plain": [
       "<matplotlib.figure.Figure at 0x7f700b0b59e8>"
      ]
     },
     "metadata": {},
     "output_type": "display_data"
    }
   ],
   "source": [
    "breakdown_desc('Title', 'Survived', data=all_data[~all_data.Survived.isnull()], orient='h')"
   ]
  },
  {
   "cell_type": "code",
   "execution_count": 53,
   "metadata": {
    "_cell_guid": "c0b82f75-008b-4b09-b025-e86510b8302b",
    "_uuid": "c8650077d11f8866ca8be3b3314898f881766ff1"
   },
   "outputs": [],
   "source": [
    "title_map = {\n",
    "    # Likely to help others, mostly old\n",
    "    'Rev': 0,\n",
    "    'Capt': 0,\n",
    "    \n",
    "    # Mostly adult males\n",
    "    'Mr': 1,\n",
    "    'Dr': 2,\n",
    "    \n",
    "    # Military\n",
    "    'Col': 3,\n",
    "    'Major': 3,\n",
    "    \n",
    "    # Women and children\n",
    "    'Master': 4,\n",
    "    'Miss': 5,\n",
    "    'Ms': 5,\n",
    "    'Mlle': 5,\n",
    "    'Mrs': 6,\n",
    "    'Mme': 6,\n",
    "    \n",
    "    # Lordship titles\n",
    "    'Jonkheer': 7,\n",
    "    'Don': 7,\n",
    "    'Dona': 7,\n",
    "    'Sir': 7,\n",
    "    'Lady': 7,\n",
    "    'Countess': 7\n",
    "}\n",
    "\n",
    "all_data.Title = all_data.Title.map(title_map)"
   ]
  },
  {
   "cell_type": "code",
   "execution_count": 54,
   "metadata": {
    "_cell_guid": "2643b4d0-bf16-4872-985b-4b66cfc31e69",
    "_uuid": "ef3fe044ab0b7b49b438a1b31c020bbbaa7831c4"
   },
   "outputs": [
    {
     "data": {
      "image/png": "[encoded data removed]",
      "text/plain": [
       "<matplotlib.figure.Figure at 0x7f7008444c50>"
      ]
     },
     "metadata": {},
     "output_type": "display_data"
    }
   ],
   "source": [
    "breakdown_desc('Deck', 'Survived', data=all_data[~all_data.Survived.isnull()])"
   ]
  },
  {
   "cell_type": "code",
   "execution_count": 55,
   "metadata": {
    "_cell_guid": "53e12912-9656-4e3d-967c-32e5e70460b7",
    "_uuid": "15c1c2625e939f9a377801b4e767f425ec82d8de"
   },
   "outputs": [],
   "source": [
    "deck_map = {\n",
    "    'T': 0,\n",
    "    'U': 1,\n",
    "    'A': 2,\n",
    "    'G': 3,\n",
    "    'C': 4,\n",
    "    'F': 5,\n",
    "    'B': 6,\n",
    "    'E': 7,\n",
    "    'D': 8\n",
    "}\n",
    "\n",
    "all_data.Deck = all_data.Deck.map(deck_map)"
   ]
  },
  {
   "cell_type": "markdown",
   "metadata": {
    "_cell_guid": "68aa213c-1fda-4c12-b666-4e45d4491a47",
    "_uuid": "9b2634ad6c7d01d377b5f6680cae1349be02705f"
   },
   "source": [
    "Applying the same technique to FName and LName will create false numeric correlation with something abstract like names, which leads to overfitting the data. Interestingly, this does not happen with Title! This is probably because titles are, in a way, hierarchical."
   ]
  },
  {
   "cell_type": "code",
   "execution_count": 56,
   "metadata": {
    "_cell_guid": "77100205-b2d5-4df3-a727-70a06ea21665",
    "_uuid": "9e62c198e45ab125503f5ffa4d49479793396d33"
   },
   "outputs": [],
   "source": [
    "# surv_prob = {}\n",
    "# vcount = all_data.LName.value_counts()\n",
    "# for name in all_data.LName.unique():\n",
    "#     surv_count = np.sum(all_data[all_data.LName == name].Survived)\n",
    "#     surv_prob[name] = surv_count / vcount[name]\n",
    "\n",
    "# surv_prob_by_lname = pd.Series(surv_prob).sort_values()\n",
    "\n",
    "# lname_map = dict(zip(surv_prob_by_lname.index, np.arange(0, len(surv_prob_by_lname))))\n",
    "\n",
    "# all_data.LName = all_data.LName.map(lname_map)\n",
    "\n",
    "# surv_prob = {}\n",
    "# vcount = all_data.FName.value_counts()\n",
    "# for name in all_data.FName.unique():\n",
    "#     surv_count = np.sum(all_data[all_data.FName == name].Survived)\n",
    "#     surv_prob[name] = surv_count / vcount[name]\n",
    "\n",
    "# surv_prob_by_fname= pd.Series(surv_prob).sort_values()\n",
    "\n",
    "# fname_map = dict(zip(surv_prob_by_fname.index, np.arange(0, len(surv_prob_by_fname))))\n",
    "\n",
    "# all_data.FName = all_data.FName.map(fname_map)"
   ]
  },
  {
   "cell_type": "markdown",
   "metadata": {
    "_cell_guid": "b0073db7-fd3c-43b0-b4ec-9fd0aa0841d5",
    "_uuid": "a1e1fade0e97802853640e77e13eb51a9b523a98"
   },
   "source": [
    "Now, we encode the remaining features then scale values to emphasize variance."
   ]
  },
  {
   "cell_type": "code",
   "execution_count": 57,
   "metadata": {
    "_cell_guid": "25b0d0ae-1bc5-4b02-b11d-688a80f9dcf0",
    "_uuid": "897fc4a83ded9aeee45fb8bbce0b1263be2ad0f8"
   },
   "outputs": [],
   "source": [
    "all_data.Sex = all_data.Sex.map({'male':0, 'female':1})\n",
    "\n",
    "all_data.LName = LabelEncoder().fit_transform(all_data.LName)\n",
    "all_data.FName = LabelEncoder().fit_transform(all_data.FName)\n",
    "\n",
    "# all_data.Fare = np.log(all_data.Fare+1)\n",
    "\n",
    "bins = np.arange(all_data.Fare.min()-1, all_data.Fare.max(), 12)\n",
    "bins[-1] = all_data.Fare.max()+1\n",
    "all_data.Fare = LabelEncoder().fit_transform(pd.cut(all_data.Fare, bins))\n",
    "\n",
    "bins = [0, 14, 18, 25, 35, 50, 60, 80]\n",
    "all_data.Age = LabelEncoder().fit_transform(pd.cut(all_data.Age, bins))\n",
    "\n",
    "to_scale = ['Age', 'Embarked', 'Fare', 'Parch', 'Pclass', 'SibSp', 'Title', 'Deck']\n",
    "all_data[to_scale] = StandardScaler().fit_transform(all_data[to_scale])"
   ]
  },
  {
   "cell_type": "code",
   "execution_count": 58,
   "metadata": {
    "_cell_guid": "80ec8ab0-9a30-4904-b21c-ec62c8374d04",
    "_uuid": "6c5d26bc8602f915e1e645cce02239a6ce10d46b"
   },
   "outputs": [
    {
     "data": {
      "text/html": [
       "<div>\n",
       "<style scoped>\n",
       "    .dataframe tbody tr th:only-of-type {\n",
       "        vertical-align: middle;\n",
       "    }\n",
       "\n",
       "    .dataframe tbody tr th {\n",
       "        vertical-align: top;\n",
       "    }\n",
       "\n",
       "    .dataframe thead th {\n",
       "        text-align: right;\n",
       "    }\n",
       "</style>\n",
       "<table border=\"1\" class=\"dataframe\">\n",
       "  <thead>\n",
       "    <tr style=\"text-align: right;\">\n",
       "      <th></th>\n",
       "      <th>Age</th>\n",
       "      <th>Embarked</th>\n",
       "      <th>Fare</th>\n",
       "      <th>Parch</th>\n",
       "      <th>PassengerId</th>\n",
       "      <th>Pclass</th>\n",
       "      <th>Sex</th>\n",
       "      <th>SibSp</th>\n",
       "      <th>Survived</th>\n",
       "      <th>Title</th>\n",
       "      <th>Deck</th>\n",
       "      <th>LName</th>\n",
       "      <th>FName</th>\n",
       "    </tr>\n",
       "  </thead>\n",
       "  <tbody>\n",
       "    <tr>\n",
       "      <th>0</th>\n",
       "      <td>-0.548269</td>\n",
       "      <td>-0.622279</td>\n",
       "      <td>-0.613375</td>\n",
       "      <td>-0.436573</td>\n",
       "      <td>1</td>\n",
       "      <td>0.841916</td>\n",
       "      <td>0</td>\n",
       "      <td>1.562046</td>\n",
       "      <td>0.0</td>\n",
       "      <td>-0.810604</td>\n",
       "      <td>-0.489356</td>\n",
       "      <td>29</td>\n",
       "      <td>55</td>\n",
       "    </tr>\n",
       "    <tr>\n",
       "      <th>1</th>\n",
       "      <td>0.931491</td>\n",
       "      <td>1.834926</td>\n",
       "      <td>1.102240</td>\n",
       "      <td>-0.436573</td>\n",
       "      <td>2</td>\n",
       "      <td>-1.546098</td>\n",
       "      <td>1</td>\n",
       "      <td>1.562046</td>\n",
       "      <td>1.0</td>\n",
       "      <td>1.520417</td>\n",
       "      <td>1.000334</td>\n",
       "      <td>65</td>\n",
       "      <td>27</td>\n",
       "    </tr>\n",
       "    <tr>\n",
       "      <th>2</th>\n",
       "      <td>0.191611</td>\n",
       "      <td>-0.622279</td>\n",
       "      <td>-0.613375</td>\n",
       "      <td>-0.436573</td>\n",
       "      <td>3</td>\n",
       "      <td>0.841916</td>\n",
       "      <td>1</td>\n",
       "      <td>-0.435725</td>\n",
       "      <td>1.0</td>\n",
       "      <td>1.054213</td>\n",
       "      <td>-0.489356</td>\n",
       "      <td>179</td>\n",
       "      <td>55</td>\n",
       "    </tr>\n",
       "    <tr>\n",
       "      <th>3</th>\n",
       "      <td>0.191611</td>\n",
       "      <td>-0.622279</td>\n",
       "      <td>0.530368</td>\n",
       "      <td>-0.436573</td>\n",
       "      <td>4</td>\n",
       "      <td>-1.546098</td>\n",
       "      <td>1</td>\n",
       "      <td>1.562046</td>\n",
       "      <td>1.0</td>\n",
       "      <td>1.520417</td>\n",
       "      <td>1.000334</td>\n",
       "      <td>90</td>\n",
       "      <td>55</td>\n",
       "    </tr>\n",
       "    <tr>\n",
       "      <th>4</th>\n",
       "      <td>0.191611</td>\n",
       "      <td>-0.622279</td>\n",
       "      <td>-0.613375</td>\n",
       "      <td>-0.436573</td>\n",
       "      <td>5</td>\n",
       "      <td>0.841916</td>\n",
       "      <td>0</td>\n",
       "      <td>-0.435725</td>\n",
       "      <td>0.0</td>\n",
       "      <td>-0.810604</td>\n",
       "      <td>-0.489356</td>\n",
       "      <td>5</td>\n",
       "      <td>66</td>\n",
       "    </tr>\n",
       "  </tbody>\n",
       "</table>\n",
       "</div>"
      ],
      "text/plain": [
       "        Age  Embarked      Fare     Parch  PassengerId    Pclass  Sex  \\\n",
       "0 -0.548269 -0.622279 -0.613375 -0.436573            1  0.841916    0   \n",
       "1  0.931491  1.834926  1.102240 -0.436573            2 -1.546098    1   \n",
       "2  0.191611 -0.622279 -0.613375 -0.436573            3  0.841916    1   \n",
       "3  0.191611 -0.622279  0.530368 -0.436573            4 -1.546098    1   \n",
       "4  0.191611 -0.622279 -0.613375 -0.436573            5  0.841916    0   \n",
       "\n",
       "      SibSp  Survived     Title      Deck  LName  FName  \n",
       "0  1.562046       0.0 -0.810604 -0.489356     29     55  \n",
       "1  1.562046       1.0  1.520417  1.000334     65     27  \n",
       "2 -0.435725       1.0  1.054213 -0.489356    179     55  \n",
       "3  1.562046       1.0  1.520417  1.000334     90     55  \n",
       "4 -0.435725       0.0 -0.810604 -0.489356      5     66  "
      ]
     },
     "execution_count": 58,
     "metadata": {},
     "output_type": "execute_result"
    }
   ],
   "source": [
    "all_data.head()"
   ]
  },
  {
   "cell_type": "code",
   "execution_count": 59,
   "metadata": {
    "_cell_guid": "e6c6dc49-fb75-4bf9-b4f9-9d8643bfe5f3",
    "_uuid": "4d32efee7d92ed0cab998cd40eb2e5537f2691c1"
   },
   "outputs": [],
   "source": [
    "data_train = all_data[~all_data.Survived.isnull()].drop('PassengerId', axis=1)\n",
    "data_test = all_data[all_data.Survived.isnull()].drop('Survived', axis=1)\n",
    "\n",
    "data_train.reset_index(drop=True, inplace=True)\n",
    "data_test.reset_index(drop=True, inplace=True)\n",
    "\n",
    "data_train.to_csv('train_proc.csv', index=False)\n",
    "data_test.to_csv('test_proc.csv', index=False)"
   ]
  },
  {
   "cell_type": "code",
   "execution_count": 60,
   "metadata": {
    "_cell_guid": "7846e2bd-c925-487b-9476-83cb931fde21",
    "_uuid": "48a401db92bd6a60658ff0c41a35e3ce0817722a"
   },
   "outputs": [
    {
     "data": {
      "text/plain": [
       "<matplotlib.axes._subplots.AxesSubplot at 0x7f7008281e48>"
      ]
     },
     "execution_count": 60,
     "metadata": {},
     "output_type": "execute_result"
    },
    {
     "data": {
      "image/png": "[encoded data removed]",
      "text/plain": [
       "<matplotlib.figure.Figure at 0x7f70081eb978>"
      ]
     },
     "metadata": {},
     "output_type": "display_data"
    }
   ],
   "source": [
    "sns.heatmap(data_train.corr())"
   ]
  },
  {
   "cell_type": "markdown",
   "metadata": {
    "_cell_guid": "83910e99-164c-4eec-a3bc-d28c2d469990",
    "_uuid": "366720a3ddcce645289716734a66a3ff8339f0b3"
   },
   "source": [
    "# Building a Simple Stack of Models"
   ]
  },
  {
   "cell_type": "markdown",
   "metadata": {
    "_cell_guid": "04018560-6808-416a-b9f2-b625b510c84d",
    "_uuid": "00bb62b0e961395a318884460387730f89709378"
   },
   "source": [
    "Let's try a simple stack of models without grid searching and using simple wieghted votes."
   ]
  },
  {
   "cell_type": "code",
   "execution_count": 61,
   "metadata": {
    "_cell_guid": "ce8c4b4d-8aa8-4ba2-b9ca-8bed19884272",
    "_uuid": "15ca09575ae3e8c7a2ddea8c4cb378b5d568ad66"
   },
   "outputs": [
    {
     "name": "stdout",
     "output_type": "stream",
     "text": [
      "Training...\n",
      "Iter: 0\n",
      "Iter: 1\n",
      "Iter: 2\n",
      "Iter: 3\n",
      "Iter: 4\n",
      "Iter: 5\n",
      "Iter: 6\n",
      "Iter: 7\n",
      "Iter: 8\n",
      "Iter: 9\n",
      "Iter: 10\n",
      "Iter: 11\n",
      "Iter: 12\n",
      "Iter: 13\n",
      "Iter: 14\n",
      "Iter: 15\n",
      "Iter: 16\n",
      "Iter: 17\n",
      "Iter: 18\n",
      "Iter: 19\n",
      "Iter: 20\n",
      "Iter: 21\n",
      "Iter: 22\n",
      "Iter: 23\n",
      "Iter: 24\n",
      "Iter: 25\n",
      "Iter: 26\n",
      "Iter: 27\n",
      "Iter: 28\n",
      "Iter: 29\n",
      "Done.\n",
      "Avg. Acc: 0.7938531270718788\n"
     ]
    }
   ],
   "source": [
    "import warnings\n",
    "warnings.filterwarnings(\"ignore\")  # XGB/numpy Warning\n",
    "\n",
    "X = data_train.drop('Survived', axis=1)\n",
    "y = data_train.Survived\n",
    "\n",
    "skf = StratifiedKFold(n_splits=8)\n",
    "\n",
    "models = [SVC(), LogisticRegression(), XGBClassifier(), RandomForestClassifier(), LinearDiscriminantAnalysis()]\n",
    "\n",
    "model_stack = []\n",
    "\n",
    "trained_comm = {}\n",
    "\n",
    "iterations = 30\n",
    "\n",
    "acc_tot = 0.\n",
    "\n",
    "print(\"Training...\")\n",
    "for i in range(iterations):\n",
    "    print('Iter:', i)\n",
    "    for train_index, test_index in skf.split(X, y):\n",
    "        X_train = X.iloc[train_index]\n",
    "        y_train = y.iloc[train_index]\n",
    "        X_test = X.iloc[test_index]\n",
    "        y_test = y.iloc[test_index]\n",
    "\n",
    "        for base in models:\n",
    "            model = skb.clone(base)\n",
    "            model.fit(X_train, y_train)\n",
    "            acc = accuracy_score(y_test, model.predict(X_test))\n",
    "            acc_tot += acc\n",
    "            model_stack.append((model, acc))\n",
    "print('Done.')            \n",
    "print(\"Avg. Acc:\", acc_tot / len(model_stack))"
   ]
  },
  {
   "cell_type": "code",
   "execution_count": 62,
   "metadata": {
    "_cell_guid": "ee1278ae-e8a8-4249-9410-c9df674e6038",
    "_uuid": "d1423e96956d916c4c405e6c55370e9dde4406d0"
   },
   "outputs": [
    {
     "data": {
      "text/plain": [
       "<matplotlib.axes._subplots.AxesSubplot at 0x7f7008244630>"
      ]
     },
     "execution_count": 62,
     "metadata": {},
     "output_type": "execute_result"
    },
    {
     "data": {
      "image/png": "[encoded data removed]",
      "text/plain": [
       "<matplotlib.figure.Figure at 0x7f7008697710>"
      ]
     },
     "metadata": {},
     "output_type": "display_data"
    }
   ],
   "source": [
    "model = model_stack[3][0]\n",
    "importances = model.feature_importances_\n",
    "table = pd.Series(importances, index = X_test.columns).sort_values()\n",
    "table.plot(kind='barh')"
   ]
  },
  {
   "cell_type": "code",
   "execution_count": 63,
   "metadata": {
    "_cell_guid": "f923a82e-c02f-4b69-8868-dcc7d0a22d53",
    "_uuid": "5c9b1bff0fed2db1c5b2effd52489479c133619c"
   },
   "outputs": [
    {
     "data": {
      "text/plain": [
       "0    270\n",
       "1    148\n",
       "Name: Survived, dtype: int64"
      ]
     },
     "execution_count": 63,
     "metadata": {},
     "output_type": "execute_result"
    }
   ],
   "source": [
    "pred = np.zeros(data_test.shape[0])\n",
    "\n",
    "X_test = data_test.drop('PassengerId', axis=1)\n",
    "\n",
    "for model, w in model_stack:\n",
    "    pred += model.predict(X_test) * w\n",
    "pred = np.round(pred/len(model_stack))\n",
    "\n",
    "df = pd.DataFrame(columns=['PassengerId', 'Survived'])\n",
    "df.PassengerId = data_test.PassengerId\n",
    "df.Survived =  pd.to_numeric(pred, downcast='integer')\n",
    "\n",
    "df.to_csv('output.csv', index=False)\n",
    "\n",
    "df.Survived.value_counts()"
   ]
  },
  {
   "cell_type": "markdown",
   "metadata": {
    "_cell_guid": "ee114b72-fa2d-4e19-bd73-2c846daef71f",
    "_uuid": "f1143ab13473e0ab0f229a9623204a377ccff316"
   },
   "source": [
    "This model scores 80-82.3% on the leaderboard."
   ]
  }
 ],
 "metadata": {
  "kernelspec": {
   "display_name": "Python 3",
   "language": "python",
   "name": "python3"
  },
  "language_info": {
   "codemirror_mode": {
    "name": "ipython",
    "version": 3
   },
   "file_extension": ".py",
   "mimetype": "text/x-python",
   "name": "python",
   "nbconvert_exporter": "python",
   "pygments_lexer": "ipython3",
   "version": "3.5.2"
  }
 },
 "nbformat": 4,
 "nbformat_minor": 1
}
